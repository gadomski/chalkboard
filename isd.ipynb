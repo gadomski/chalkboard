{
    "cells": [
        {
            "cell_type": "code",
            "execution_count": 2,
            "source": [
                "import requests\n",
                "import time\n",
                "import os\n",
                "\n",
                "stations = [\"720538-00164\", \"999999-04222\", \"725244-99999\"]\n",
                "start_year = 2010\n",
                "\n",
                "def download(url, outfile): \n",
                "    try:\n",
                "        response = requests.get(url, timeout=5)\n",
                "    except requests.exceptions.Timeout:\n",
                "        print(f\"Timeout when trying to read {url}, skipping...\")\n",
                "        return\n",
                "    if response.status_code != requests.codes.ok:\n",
                "        print(f\"{response.status_code}: {url}, skipping...\")\n",
                "        time.sleep(0.5)\n",
                "        return\n",
                "    else:\n",
                "        print(f\"{response.status_code}: {url}, downloading...\")\n",
                "    os.makedirs(os.path.dirname(outfile), exist_ok=True)\n",
                "    with open(path, \"wb\") as f:\n",
                "        for chunk in response.iter_content(chunk_size=128):\n",
                "            f.write(chunk)\n",
                "\n",
                "for station in stations:\n",
                "    for year in range(start_year, 2022):\n",
                "        file_name = f\"{station}-{year}.gz\"\n",
                "        directory = os.path.join(\"isd-lite\", str(year))\n",
                "        path = os.path.join(directory, file_name)\n",
                "        if os.path.exists(path):\n",
                "            continue\n",
                "        url = f\"https://www.ncei.noaa.gov/pub/data/noaa/isd-lite/{year}/{file_name}\"\n",
                "        download(url, path)\n",
                "\n",
                "summary = \"isd-summary/2021.tar.gz\"\n",
                "if not os.path.exists(summary):\n",
                "    download(\"https://www.ncei.noaa.gov/data/global-summary-of-the-day/archive/2021.tar.gz\", summary)\n"
            ],
            "outputs": [
                {
                    "output_type": "stream",
                    "name": "stdout",
                    "text": [
                        "200: https://www.ncei.noaa.gov/pub/data/noaa/isd-lite/2010/720538-00164-2010.gz, downloading...\n",
                        "Timeout when trying to read https://www.ncei.noaa.gov/pub/data/noaa/isd-lite/2012/720538-00164-2012.gz, skipping...\n",
                        "200: https://www.ncei.noaa.gov/pub/data/noaa/isd-lite/2016/720538-00164-2016.gz, downloading...\n",
                        "Timeout when trying to read https://www.ncei.noaa.gov/pub/data/noaa/isd-lite/2020/720538-00164-2020.gz, skipping...\n",
                        "200: https://www.ncei.noaa.gov/pub/data/noaa/isd-lite/2019/999999-04222-2019.gz, downloading...\n",
                        "404: https://www.ncei.noaa.gov/pub/data/noaa/isd-lite/2010/725244-99999-2010.gz, skipping...\n",
                        "404: https://www.ncei.noaa.gov/pub/data/noaa/isd-lite/2011/725244-99999-2011.gz, skipping...\n",
                        "404: https://www.ncei.noaa.gov/pub/data/noaa/isd-lite/2012/725244-99999-2012.gz, skipping...\n",
                        "404: https://www.ncei.noaa.gov/pub/data/noaa/isd-lite/2013/725244-99999-2013.gz, skipping...\n",
                        "404: https://www.ncei.noaa.gov/pub/data/noaa/isd-lite/2014/725244-99999-2014.gz, skipping...\n",
                        "Timeout when trying to read https://www.ncei.noaa.gov/pub/data/noaa/isd-lite/2016/725244-99999-2016.gz, skipping...\n",
                        "200: https://www.ncei.noaa.gov/data/global-summary-of-the-day/archive/2021.tar.gz, downloading...\n"
                    ]
                }
            ],
            "metadata": {}
        },
        {
            "cell_type": "code",
            "execution_count": null,
            "source": [
                "import subprocess\n",
                "\n",
                "for root, directories, file_names in os.walk(\"isd-lite\"):\n",
                "    for file_name in (file_name for file_name in file_names if os.path.splitext(file_name)[1] == \".gz\"):\n",
                "        source = os.path.join(root, file_name)\n",
                "        target = os.path.join(root, os.path.splitext(file_name)[0])\n",
                "        if not os.path.exists(target):\n",
                "            subprocess.call([\"gunzip\", source])"
            ],
            "outputs": [],
            "metadata": {}
        },
        {
            "cell_type": "code",
            "execution_count": 7,
            "source": [
                "import datetime\n",
                "import csv\n",
                "import numpy\n",
                "from dataclasses import dataclass\n",
                "import pandas\n",
                "import pyarrow\n",
                "from pyarrow import parquet\n",
                "\n",
                "\n",
                "@dataclass\n",
                "class Observation:\n",
                "    year: int\n",
                "    month: int\n",
                "    day: int\n",
                "    hour: int\n",
                "    air_temperature: int\n",
                "    dew_point_temperature: int\n",
                "    sea_level_pressure: int\n",
                "    wind_direction: int\n",
                "    wind_speed_rate: int\n",
                "    sky_condition_total_coverage: int\n",
                "    liquid_precipitiation_one_hour: int\n",
                "    liquid_precipitiation_six_hours: int\n",
                "\n",
                "\n",
                "data_frames = []\n",
                "for root, directories, file_names in os.walk(\"isd-lite\"):\n",
                "    for file_name in (file_name for file_name in file_names if not os.path.splitext(file_name)[1]):\n",
                "        source = os.path.join(root, file_name)\n",
                "        parts = file_name.split(\"-\")\n",
                "        assert(len(parts) == 3)\n",
                "        summary_file_name = f\"{parts[0]}{parts[1]}.csv\"\n",
                "        with open(os.path.join(\"isd-summary\", summary_file_name)) as f:\n",
                "            reader = csv.DictReader(f)\n",
                "            first = next(reader)\n",
                "        station = first[\"STATION\"]\n",
                "        latitude = float(first[\"LATITUDE\"])\n",
                "        longitude = float(first[\"LONGITUDE\"])\n",
                "        elevation = float(first[\"ELEVATION\"])\n",
                "        name = first[\"NAME\"]\n",
                "        with open(source) as f:\n",
                "            observations = []\n",
                "            for line in f:\n",
                "                values = [int(v) for v in line.split()]\n",
                "                observations.append(Observation(*values))\n",
                "        data_frame = pandas.DataFrame(observations)\n",
                "        datetimes = data_frame.apply(lambda x: datetime.datetime(x.year, x.month, x.day, x.hour, tzinfo=datetime.timezone.utc), axis=1)\n",
                "        del data_frame[\"month\"]\n",
                "        del data_frame[\"day\"]\n",
                "        del data_frame[\"hour\"]\n",
                "        data_frame.insert(0, \"datetime\", datetimes)\n",
                "        data_frame.insert(0, \"name\", name)\n",
                "        data_frame.insert(0, \"elevation\", elevation)\n",
                "        data_frame.insert(0, \"longitude\", longitude)\n",
                "        data_frame.insert(0, \"latitude\", latitude)\n",
                "        data_frame.insert(0, \"station\", station)\n",
                "        data_frame = data_frame.replace(-9999, numpy.nan)\n",
                "        data_frame = data_frame.assign(\n",
                "            air_temperature=data_frame.air_temperature.astype(\"float32\") / 10,\n",
                "            dew_point_temperature=data_frame.dew_point_temperature.astype(\"float32\") / 10,\n",
                "            sea_level_pressure=data_frame.sea_level_pressure.astype(\"float32\") / 10,\n",
                "            wind_speed_rate=data_frame.wind_speed_rate.astype(\"float32\") / 10,\n",
                "            sky_condition_total_coverage=pandas.Categorical(data_frame.sky_condition_total_coverage, categories=range(0, 20)),\n",
                "            liquid_precipitation_one_hour=data_frame.liquid_precipitiation_one_hour.astype(\"float32\") / 10,\n",
                "            liquid_precipitation_six_hours=data_frame.liquid_precipitiation_six_hours.astype(\"float32\") / 10,\n",
                "        )\n",
                "        data_frames.append(data_frame)\n",
                "data_frame = pandas.concat(data_frames)"
            ],
            "outputs": [],
            "metadata": {}
        },
        {
            "cell_type": "code",
            "execution_count": 9,
            "source": [
                "table = pyarrow.Table.from_pandas(data_frame)\n",
                "parquet.write_to_dataset(table, root_path=\"isd-lite/parquet\", partition_cols=[\"year\"])"
            ],
            "outputs": [
                {
                    "output_type": "error",
                    "ename": "KeyError",
                    "evalue": "'year'",
                    "traceback": [
                        "\u001b[0;31m---------------------------------------------------------------------------\u001b[0m",
                        "\u001b[0;31mKeyError\u001b[0m                                  Traceback (most recent call last)",
                        "\u001b[0;32m~/.virtualenvs/chalkboard/lib/python3.9/site-packages/pandas/core/indexes/base.py\u001b[0m in \u001b[0;36mget_loc\u001b[0;34m(self, key, method, tolerance)\u001b[0m\n\u001b[1;32m   3360\u001b[0m             \u001b[0;32mtry\u001b[0m\u001b[0;34m:\u001b[0m\u001b[0;34m\u001b[0m\u001b[0;34m\u001b[0m\u001b[0m\n\u001b[0;32m-> 3361\u001b[0;31m                 \u001b[0;32mreturn\u001b[0m \u001b[0mself\u001b[0m\u001b[0;34m.\u001b[0m\u001b[0m_engine\u001b[0m\u001b[0;34m.\u001b[0m\u001b[0mget_loc\u001b[0m\u001b[0;34m(\u001b[0m\u001b[0mcasted_key\u001b[0m\u001b[0;34m)\u001b[0m\u001b[0;34m\u001b[0m\u001b[0;34m\u001b[0m\u001b[0m\n\u001b[0m\u001b[1;32m   3362\u001b[0m             \u001b[0;32mexcept\u001b[0m \u001b[0mKeyError\u001b[0m \u001b[0;32mas\u001b[0m \u001b[0merr\u001b[0m\u001b[0;34m:\u001b[0m\u001b[0;34m\u001b[0m\u001b[0;34m\u001b[0m\u001b[0m\n",
                        "\u001b[0;32m~/.virtualenvs/chalkboard/lib/python3.9/site-packages/pandas/_libs/index.pyx\u001b[0m in \u001b[0;36mpandas._libs.index.IndexEngine.get_loc\u001b[0;34m()\u001b[0m\n",
                        "\u001b[0;32m~/.virtualenvs/chalkboard/lib/python3.9/site-packages/pandas/_libs/index.pyx\u001b[0m in \u001b[0;36mpandas._libs.index.IndexEngine.get_loc\u001b[0;34m()\u001b[0m\n",
                        "\u001b[0;32mpandas/_libs/hashtable_class_helper.pxi\u001b[0m in \u001b[0;36mpandas._libs.hashtable.PyObjectHashTable.get_item\u001b[0;34m()\u001b[0m\n",
                        "\u001b[0;32mpandas/_libs/hashtable_class_helper.pxi\u001b[0m in \u001b[0;36mpandas._libs.hashtable.PyObjectHashTable.get_item\u001b[0;34m()\u001b[0m\n",
                        "\u001b[0;31mKeyError\u001b[0m: 'year'",
                        "\nThe above exception was the direct cause of the following exception:\n",
                        "\u001b[0;31mKeyError\u001b[0m                                  Traceback (most recent call last)",
                        "\u001b[0;32m<ipython-input-9-ff10b56b443a>\u001b[0m in \u001b[0;36m<module>\u001b[0;34m\u001b[0m\n\u001b[1;32m      1\u001b[0m \u001b[0mtable\u001b[0m \u001b[0;34m=\u001b[0m \u001b[0mpyarrow\u001b[0m\u001b[0;34m.\u001b[0m\u001b[0mTable\u001b[0m\u001b[0;34m.\u001b[0m\u001b[0mfrom_pandas\u001b[0m\u001b[0;34m(\u001b[0m\u001b[0mdata_frame\u001b[0m\u001b[0;34m)\u001b[0m\u001b[0;34m\u001b[0m\u001b[0;34m\u001b[0m\u001b[0m\n\u001b[0;32m----> 2\u001b[0;31m \u001b[0mparquet\u001b[0m\u001b[0;34m.\u001b[0m\u001b[0mwrite_to_dataset\u001b[0m\u001b[0;34m(\u001b[0m\u001b[0mtable\u001b[0m\u001b[0;34m,\u001b[0m \u001b[0mroot_path\u001b[0m\u001b[0;34m=\u001b[0m\u001b[0;34m\"isd-lite/parquet\"\u001b[0m\u001b[0;34m,\u001b[0m \u001b[0mpartition_cols\u001b[0m\u001b[0;34m=\u001b[0m\u001b[0;34m[\u001b[0m\u001b[0;34m\"year\"\u001b[0m\u001b[0;34m]\u001b[0m\u001b[0;34m)\u001b[0m\u001b[0;34m\u001b[0m\u001b[0;34m\u001b[0m\u001b[0m\n\u001b[0m",
                        "\u001b[0;32m~/.virtualenvs/chalkboard/lib/python3.9/site-packages/pyarrow/parquet.py\u001b[0m in \u001b[0;36mwrite_to_dataset\u001b[0;34m(table, root_path, partition_cols, partition_filename_cb, filesystem, use_legacy_dataset, **kwargs)\u001b[0m\n\u001b[1;32m   2121\u001b[0m     \u001b[0;32mif\u001b[0m \u001b[0mpartition_cols\u001b[0m \u001b[0;32mis\u001b[0m \u001b[0;32mnot\u001b[0m \u001b[0;32mNone\u001b[0m \u001b[0;32mand\u001b[0m \u001b[0mlen\u001b[0m\u001b[0;34m(\u001b[0m\u001b[0mpartition_cols\u001b[0m\u001b[0;34m)\u001b[0m \u001b[0;34m>\u001b[0m \u001b[0;36m0\u001b[0m\u001b[0;34m:\u001b[0m\u001b[0;34m\u001b[0m\u001b[0;34m\u001b[0m\u001b[0m\n\u001b[1;32m   2122\u001b[0m         \u001b[0mdf\u001b[0m \u001b[0;34m=\u001b[0m \u001b[0mtable\u001b[0m\u001b[0;34m.\u001b[0m\u001b[0mto_pandas\u001b[0m\u001b[0;34m(\u001b[0m\u001b[0;34m)\u001b[0m\u001b[0;34m\u001b[0m\u001b[0;34m\u001b[0m\u001b[0m\n\u001b[0;32m-> 2123\u001b[0;31m         \u001b[0mpartition_keys\u001b[0m \u001b[0;34m=\u001b[0m \u001b[0;34m[\u001b[0m\u001b[0mdf\u001b[0m\u001b[0;34m[\u001b[0m\u001b[0mcol\u001b[0m\u001b[0;34m]\u001b[0m \u001b[0;32mfor\u001b[0m \u001b[0mcol\u001b[0m \u001b[0;32min\u001b[0m \u001b[0mpartition_cols\u001b[0m\u001b[0;34m]\u001b[0m\u001b[0;34m\u001b[0m\u001b[0;34m\u001b[0m\u001b[0m\n\u001b[0m\u001b[1;32m   2124\u001b[0m         \u001b[0mdata_df\u001b[0m \u001b[0;34m=\u001b[0m \u001b[0mdf\u001b[0m\u001b[0;34m.\u001b[0m\u001b[0mdrop\u001b[0m\u001b[0;34m(\u001b[0m\u001b[0mpartition_cols\u001b[0m\u001b[0;34m,\u001b[0m \u001b[0maxis\u001b[0m\u001b[0;34m=\u001b[0m\u001b[0;34m'columns'\u001b[0m\u001b[0;34m)\u001b[0m\u001b[0;34m\u001b[0m\u001b[0;34m\u001b[0m\u001b[0m\n\u001b[1;32m   2125\u001b[0m         \u001b[0mdata_cols\u001b[0m \u001b[0;34m=\u001b[0m \u001b[0mdf\u001b[0m\u001b[0;34m.\u001b[0m\u001b[0mcolumns\u001b[0m\u001b[0;34m.\u001b[0m\u001b[0mdrop\u001b[0m\u001b[0;34m(\u001b[0m\u001b[0mpartition_cols\u001b[0m\u001b[0;34m)\u001b[0m\u001b[0;34m\u001b[0m\u001b[0;34m\u001b[0m\u001b[0m\n",
                        "\u001b[0;32m~/.virtualenvs/chalkboard/lib/python3.9/site-packages/pyarrow/parquet.py\u001b[0m in \u001b[0;36m<listcomp>\u001b[0;34m(.0)\u001b[0m\n\u001b[1;32m   2121\u001b[0m     \u001b[0;32mif\u001b[0m \u001b[0mpartition_cols\u001b[0m \u001b[0;32mis\u001b[0m \u001b[0;32mnot\u001b[0m \u001b[0;32mNone\u001b[0m \u001b[0;32mand\u001b[0m \u001b[0mlen\u001b[0m\u001b[0;34m(\u001b[0m\u001b[0mpartition_cols\u001b[0m\u001b[0;34m)\u001b[0m \u001b[0;34m>\u001b[0m \u001b[0;36m0\u001b[0m\u001b[0;34m:\u001b[0m\u001b[0;34m\u001b[0m\u001b[0;34m\u001b[0m\u001b[0m\n\u001b[1;32m   2122\u001b[0m         \u001b[0mdf\u001b[0m \u001b[0;34m=\u001b[0m \u001b[0mtable\u001b[0m\u001b[0;34m.\u001b[0m\u001b[0mto_pandas\u001b[0m\u001b[0;34m(\u001b[0m\u001b[0;34m)\u001b[0m\u001b[0;34m\u001b[0m\u001b[0;34m\u001b[0m\u001b[0m\n\u001b[0;32m-> 2123\u001b[0;31m         \u001b[0mpartition_keys\u001b[0m \u001b[0;34m=\u001b[0m \u001b[0;34m[\u001b[0m\u001b[0mdf\u001b[0m\u001b[0;34m[\u001b[0m\u001b[0mcol\u001b[0m\u001b[0;34m]\u001b[0m \u001b[0;32mfor\u001b[0m \u001b[0mcol\u001b[0m \u001b[0;32min\u001b[0m \u001b[0mpartition_cols\u001b[0m\u001b[0;34m]\u001b[0m\u001b[0;34m\u001b[0m\u001b[0;34m\u001b[0m\u001b[0m\n\u001b[0m\u001b[1;32m   2124\u001b[0m         \u001b[0mdata_df\u001b[0m \u001b[0;34m=\u001b[0m \u001b[0mdf\u001b[0m\u001b[0;34m.\u001b[0m\u001b[0mdrop\u001b[0m\u001b[0;34m(\u001b[0m\u001b[0mpartition_cols\u001b[0m\u001b[0;34m,\u001b[0m \u001b[0maxis\u001b[0m\u001b[0;34m=\u001b[0m\u001b[0;34m'columns'\u001b[0m\u001b[0;34m)\u001b[0m\u001b[0;34m\u001b[0m\u001b[0;34m\u001b[0m\u001b[0m\n\u001b[1;32m   2125\u001b[0m         \u001b[0mdata_cols\u001b[0m \u001b[0;34m=\u001b[0m \u001b[0mdf\u001b[0m\u001b[0;34m.\u001b[0m\u001b[0mcolumns\u001b[0m\u001b[0;34m.\u001b[0m\u001b[0mdrop\u001b[0m\u001b[0;34m(\u001b[0m\u001b[0mpartition_cols\u001b[0m\u001b[0;34m)\u001b[0m\u001b[0;34m\u001b[0m\u001b[0;34m\u001b[0m\u001b[0m\n",
                        "\u001b[0;32m~/.virtualenvs/chalkboard/lib/python3.9/site-packages/pandas/core/frame.py\u001b[0m in \u001b[0;36m__getitem__\u001b[0;34m(self, key)\u001b[0m\n\u001b[1;32m   3453\u001b[0m             \u001b[0;32mif\u001b[0m \u001b[0mself\u001b[0m\u001b[0;34m.\u001b[0m\u001b[0mcolumns\u001b[0m\u001b[0;34m.\u001b[0m\u001b[0mnlevels\u001b[0m \u001b[0;34m>\u001b[0m \u001b[0;36m1\u001b[0m\u001b[0;34m:\u001b[0m\u001b[0;34m\u001b[0m\u001b[0;34m\u001b[0m\u001b[0m\n\u001b[1;32m   3454\u001b[0m                 \u001b[0;32mreturn\u001b[0m \u001b[0mself\u001b[0m\u001b[0;34m.\u001b[0m\u001b[0m_getitem_multilevel\u001b[0m\u001b[0;34m(\u001b[0m\u001b[0mkey\u001b[0m\u001b[0;34m)\u001b[0m\u001b[0;34m\u001b[0m\u001b[0;34m\u001b[0m\u001b[0m\n\u001b[0;32m-> 3455\u001b[0;31m             \u001b[0mindexer\u001b[0m \u001b[0;34m=\u001b[0m \u001b[0mself\u001b[0m\u001b[0;34m.\u001b[0m\u001b[0mcolumns\u001b[0m\u001b[0;34m.\u001b[0m\u001b[0mget_loc\u001b[0m\u001b[0;34m(\u001b[0m\u001b[0mkey\u001b[0m\u001b[0;34m)\u001b[0m\u001b[0;34m\u001b[0m\u001b[0;34m\u001b[0m\u001b[0m\n\u001b[0m\u001b[1;32m   3456\u001b[0m             \u001b[0;32mif\u001b[0m \u001b[0mis_integer\u001b[0m\u001b[0;34m(\u001b[0m\u001b[0mindexer\u001b[0m\u001b[0;34m)\u001b[0m\u001b[0;34m:\u001b[0m\u001b[0;34m\u001b[0m\u001b[0;34m\u001b[0m\u001b[0m\n\u001b[1;32m   3457\u001b[0m                 \u001b[0mindexer\u001b[0m \u001b[0;34m=\u001b[0m \u001b[0;34m[\u001b[0m\u001b[0mindexer\u001b[0m\u001b[0;34m]\u001b[0m\u001b[0;34m\u001b[0m\u001b[0;34m\u001b[0m\u001b[0m\n",
                        "\u001b[0;32m~/.virtualenvs/chalkboard/lib/python3.9/site-packages/pandas/core/indexes/base.py\u001b[0m in \u001b[0;36mget_loc\u001b[0;34m(self, key, method, tolerance)\u001b[0m\n\u001b[1;32m   3361\u001b[0m                 \u001b[0;32mreturn\u001b[0m \u001b[0mself\u001b[0m\u001b[0;34m.\u001b[0m\u001b[0m_engine\u001b[0m\u001b[0;34m.\u001b[0m\u001b[0mget_loc\u001b[0m\u001b[0;34m(\u001b[0m\u001b[0mcasted_key\u001b[0m\u001b[0;34m)\u001b[0m\u001b[0;34m\u001b[0m\u001b[0;34m\u001b[0m\u001b[0m\n\u001b[1;32m   3362\u001b[0m             \u001b[0;32mexcept\u001b[0m \u001b[0mKeyError\u001b[0m \u001b[0;32mas\u001b[0m \u001b[0merr\u001b[0m\u001b[0;34m:\u001b[0m\u001b[0;34m\u001b[0m\u001b[0;34m\u001b[0m\u001b[0m\n\u001b[0;32m-> 3363\u001b[0;31m                 \u001b[0;32mraise\u001b[0m \u001b[0mKeyError\u001b[0m\u001b[0;34m(\u001b[0m\u001b[0mkey\u001b[0m\u001b[0;34m)\u001b[0m \u001b[0;32mfrom\u001b[0m \u001b[0merr\u001b[0m\u001b[0;34m\u001b[0m\u001b[0;34m\u001b[0m\u001b[0m\n\u001b[0m\u001b[1;32m   3364\u001b[0m \u001b[0;34m\u001b[0m\u001b[0m\n\u001b[1;32m   3365\u001b[0m         \u001b[0;32mif\u001b[0m \u001b[0mis_scalar\u001b[0m\u001b[0;34m(\u001b[0m\u001b[0mkey\u001b[0m\u001b[0;34m)\u001b[0m \u001b[0;32mand\u001b[0m \u001b[0misna\u001b[0m\u001b[0;34m(\u001b[0m\u001b[0mkey\u001b[0m\u001b[0;34m)\u001b[0m \u001b[0;32mand\u001b[0m \u001b[0;32mnot\u001b[0m \u001b[0mself\u001b[0m\u001b[0;34m.\u001b[0m\u001b[0mhasnans\u001b[0m\u001b[0;34m:\u001b[0m\u001b[0;34m\u001b[0m\u001b[0;34m\u001b[0m\u001b[0m\n",
                        "\u001b[0;31mKeyError\u001b[0m: 'year'"
                    ]
                }
            ],
            "metadata": {}
        }
    ],
    "metadata": {
        "orig_nbformat": 4,
        "language_info": {
            "name": "python",
            "version": "3.9.6",
            "mimetype": "text/x-python",
            "codemirror_mode": {
                "name": "ipython",
                "version": 3
            },
            "pygments_lexer": "ipython3",
            "nbconvert_exporter": "python",
            "file_extension": ".py"
        },
        "kernelspec": {
            "name": "python3",
            "display_name": "Python 3.9.6 64-bit ('chalkboard': virtualenvwrapper)"
        },
        "interpreter": {
            "hash": "0cdeeb1da3296e6c34ba7955f0c52855b4fde5189c7b7a1bce5013a2d9a6009f"
        }
    },
    "nbformat": 4,
    "nbformat_minor": 2
}