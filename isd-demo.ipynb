{
    "cells": [
        {
            "cell_type": "markdown",
            "source": [
                "# Writing ISD data to partitioned parquet\n",
                "\n",
                "You'll need to download a year of ISD data, e.g. from Microsoft's Planetary Computer.\n",
                "We're using https://github.com/gadomski/pyisd to read the data."
            ],
            "metadata": {}
        },
        {
            "cell_type": "code",
            "execution_count": null,
            "source": [
                "import dask\n",
                "from dask.distributed import Client\n",
                "import dask.dataframe\n",
                "import dask_geopandas\n",
                "import pandas\n",
                "import os\n",
                "import isd\n",
                "import isd.pandas\n",
                "\n",
                "client = Client('tcp://127.0.0.1:65076')\n",
                "\n",
                "def read_to_data_frame(path):\n",
                "    with isd.open(path) as iterator:\n",
                "        records = list(iterator)\n",
                "    data_frame = isd.pandas.data_frame(records)\n",
                "    timestamp = pandas.to_datetime(data_frame[[\"year\", \"month\", \"day\", \"hour\", \"minute\"]])\n",
                "    data_frame[\"timestamp\"] = timestamp\n",
                "    data_frame.set_index(\"timestamp\")\n",
                "    return data_frame\n",
                "\n",
                "data_frames = []\n",
                "for file_name in os.listdir(\"isd/2020\"):\n",
                "    path = os.path.join(\"isd/2020\", file_name)\n",
                "    data_frames.append(dask.delayed(read_to_data_frame)(path))\n",
                "    if len(data_frames) == 10:\n",
                "        break\n",
                "\n",
                "data_frame = dask.dataframe.from_delayed(data_frames)\n",
                "data_frame = data_frame.set_index(\"timestamp\")\n",
                "data_frame = data_frame.repartition(freq=\"7d\")"
            ],
            "outputs": [],
            "metadata": {}
        },
        {
            "cell_type": "code",
            "execution_count": null,
            "source": [
                "geo_data_frame = dask_geopandas.from_dask_dataframe(data_frame)\n",
                "geo_data_frame = geo_data_frame.set_geometry(\n",
                "    dask_geopandas.points_from_xy(data_frame, \"longitude\", \"latitude\")\n",
                ")"
            ],
            "outputs": [],
            "metadata": {}
        },
        {
            "cell_type": "code",
            "execution_count": null,
            "source": [
                "geo_data_frame.to_parquet(\"isd/parquet\", partition_on=[\"year\", \"month\"])"
            ],
            "outputs": [],
            "metadata": {}
        },
        {
            "cell_type": "code",
            "execution_count": null,
            "source": [
                "data_frame = dask_geopandas.read_parquet(\"isd/parquet\")\n",
                "data_frame.groupby([\"usaf_id\", \"ncei_id\"])[[\"latitude\", \"longitude\", \"air_temperature\"]].mean().compute()"
            ],
            "outputs": [],
            "metadata": {}
        },
        {
            "cell_type": "code",
            "execution_count": null,
            "source": [
                "data_frame[data_frame.usaf_id == \"067000\"][\"air_temperature\"].resample(\"24h\").mean().compute().plot()"
            ],
            "outputs": [],
            "metadata": {}
        }
    ],
    "metadata": {
        "orig_nbformat": 4,
        "language_info": {
            "name": "python",
            "version": "3.9.7",
            "mimetype": "text/x-python",
            "codemirror_mode": {
                "name": "ipython",
                "version": 3
            },
            "pygments_lexer": "ipython3",
            "nbconvert_exporter": "python",
            "file_extension": ".py"
        },
        "kernelspec": {
            "name": "python3",
            "display_name": "Python 3.9.7 64-bit ('chalkboard': virtualenv)"
        },
        "interpreter": {
            "hash": "0cdeeb1da3296e6c34ba7955f0c52855b4fde5189c7b7a1bce5013a2d9a6009f"
        }
    },
    "nbformat": 4,
    "nbformat_minor": 2
}