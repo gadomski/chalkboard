{
    "cells": [
        {
            "cell_type": "markdown",
            "source": [
                "# Writing ISD data to partitioned parquet\n",
                "\n",
                "You'll need to download a year of ISD data, e.g. from Microsoft's Planetary Computer.\n",
                "We're using https://github.com/gadomski/pyisd to read the data."
            ],
            "metadata": {}
        },
        {
            "cell_type": "code",
            "execution_count": 6,
            "source": [
                "import dask\n",
                "from dask.distributed import Client\n",
                "import dask.dataframe\n",
                "import dask_geopandas\n",
                "import pandas\n",
                "import os\n",
                "import isd\n",
                "import isd.pandas\n",
                "\n",
                "client = Client('tcp://127.0.0.1:65076')\n",
                "\n",
                "def read_to_data_frame(path):\n",
                "    with isd.open(path) as iterator:\n",
                "        records = list(iterator)\n",
                "    data_frame = isd.pandas.data_frame(records)\n",
                "    timestamp = pandas.to_datetime(data_frame[[\"year\", \"month\", \"day\", \"hour\", \"minute\"]])\n",
                "    data_frame[\"timestamp\"] = timestamp\n",
                "    data_frame.set_index(\"timestamp\")\n",
                "    return data_frame\n",
                "\n",
                "data_frames = []\n",
                "for file_name in os.listdir(\"isd/2020\"):\n",
                "    path = os.path.join(\"isd/2020\", file_name)\n",
                "    data_frames.append(dask.delayed(read_to_data_frame)(path))\n",
                "    if len(data_frames) == 10:\n",
                "        break\n",
                "\n",
                "data_frame = dask.dataframe.from_delayed(data_frames)\n",
                "data_frame = data_frame.set_index(\"timestamp\")\n",
                "data_frame = data_frame.repartition(freq=\"7d\")"
            ],
            "outputs": [],
            "metadata": {}
        },
        {
            "cell_type": "code",
            "execution_count": 7,
            "source": [
                "geo_data_frame = dask_geopandas.from_dask_dataframe(data_frame)\n",
                "geo_data_frame = geo_data_frame.set_geometry(\n",
                "    dask_geopandas.points_from_xy(data_frame, \"longitude\", \"latitude\")\n",
                ")"
            ],
            "outputs": [],
            "metadata": {}
        },
        {
            "cell_type": "code",
            "execution_count": 8,
            "source": [
                "geo_data_frame.to_parquet(\"isd/parquet\", partition_on=[\"year\", \"month\"])"
            ],
            "outputs": [],
            "metadata": {}
        },
        {
            "cell_type": "code",
            "execution_count": 9,
            "source": [
                "data_frame = dask_geopandas.read_parquet(\"isd/parquet\")\n",
                "data_frame.groupby([\"usaf_id\", \"ncei_id\"])[[\"latitude\", \"longitude\", \"air_temperature\"]].mean().compute()"
            ],
            "outputs": [
                {
                    "output_type": "stream",
                    "name": "stderr",
                    "text": [
                        "/Users/gadomski/.virtualenvs/chalkboard/lib/python3.9/site-packages/dask_geopandas/core.py:23: FutureWarning: Assigning CRS to a GeoDataFrame without a geometry column is now deprecated and will not be supported in the future.\n",
                        "  output.crs = results[0].crs\n"
                    ]
                },
                {
                    "output_type": "execute_result",
                    "data": {
                        "text/html": [
                            "<div>\n",
                            "<style scoped>\n",
                            "    .dataframe tbody tr th:only-of-type {\n",
                            "        vertical-align: middle;\n",
                            "    }\n",
                            "\n",
                            "    .dataframe tbody tr th {\n",
                            "        vertical-align: top;\n",
                            "    }\n",
                            "\n",
                            "    .dataframe thead th {\n",
                            "        text-align: right;\n",
                            "    }\n",
                            "</style>\n",
                            "<table border=\"1\" class=\"dataframe\">\n",
                            "  <thead>\n",
                            "    <tr style=\"text-align: right;\">\n",
                            "      <th></th>\n",
                            "      <th></th>\n",
                            "      <th>latitude</th>\n",
                            "      <th>longitude</th>\n",
                            "      <th>air_temperature</th>\n",
                            "    </tr>\n",
                            "    <tr>\n",
                            "      <th>usaf_id</th>\n",
                            "      <th>ncei_id</th>\n",
                            "      <th></th>\n",
                            "      <th></th>\n",
                            "      <th></th>\n",
                            "    </tr>\n",
                            "  </thead>\n",
                            "  <tbody>\n",
                            "    <tr>\n",
                            "      <th>067000</th>\n",
                            "      <th>99999</th>\n",
                            "      <td>46.241885</td>\n",
                            "      <td>6.116719</td>\n",
                            "      <td>12.166905</td>\n",
                            "    </tr>\n",
                            "    <tr>\n",
                            "      <th>067150</th>\n",
                            "      <th>99999</th>\n",
                            "      <td>46.183000</td>\n",
                            "      <td>7.032111</td>\n",
                            "      <td>12.006594</td>\n",
                            "    </tr>\n",
                            "    <tr>\n",
                            "      <th>165990</th>\n",
                            "      <th>99999</th>\n",
                            "      <td>35.850000</td>\n",
                            "      <td>14.500000</td>\n",
                            "      <td>19.810530</td>\n",
                            "    </tr>\n",
                            "    <tr>\n",
                            "      <th>266661</th>\n",
                            "      <th>99999</th>\n",
                            "      <td>53.601574</td>\n",
                            "      <td>24.053147</td>\n",
                            "      <td>9.339626</td>\n",
                            "    </tr>\n",
                            "    <tr>\n",
                            "      <th>478540</th>\n",
                            "      <th>99999</th>\n",
                            "      <td>32.084000</td>\n",
                            "      <td>131.451000</td>\n",
                            "      <td>18.633659</td>\n",
                            "    </tr>\n",
                            "    <tr>\n",
                            "      <th>606720</th>\n",
                            "      <th>99999</th>\n",
                            "      <td>24.217000</td>\n",
                            "      <td>5.533000</td>\n",
                            "      <td>23.775822</td>\n",
                            "    </tr>\n",
                            "    <tr>\n",
                            "      <th>720334</th>\n",
                            "      <th>93764</th>\n",
                            "      <td>39.167020</td>\n",
                            "      <td>-77.166980</td>\n",
                            "      <td>14.028670</td>\n",
                            "    </tr>\n",
                            "    <tr>\n",
                            "      <th>725105</th>\n",
                            "      <th>14770</th>\n",
                            "      <td>40.821000</td>\n",
                            "      <td>-76.864000</td>\n",
                            "      <td>11.247276</td>\n",
                            "    </tr>\n",
                            "    <tr>\n",
                            "      <th>726419</th>\n",
                            "      <th>94929</th>\n",
                            "      <td>46.549000</td>\n",
                            "      <td>-90.919000</td>\n",
                            "      <td>5.862026</td>\n",
                            "    </tr>\n",
                            "    <tr>\n",
                            "      <th>999999</th>\n",
                            "      <th>00425</th>\n",
                            "      <td>43.985000</td>\n",
                            "      <td>-73.095000</td>\n",
                            "      <td>7.472709</td>\n",
                            "    </tr>\n",
                            "  </tbody>\n",
                            "</table>\n",
                            "</div>"
                        ],
                        "text/plain": [
                            "                  latitude   longitude  air_temperature\n",
                            "usaf_id ncei_id                                        \n",
                            "067000  99999    46.241885    6.116719        12.166905\n",
                            "067150  99999    46.183000    7.032111        12.006594\n",
                            "165990  99999    35.850000   14.500000        19.810530\n",
                            "266661  99999    53.601574   24.053147         9.339626\n",
                            "478540  99999    32.084000  131.451000        18.633659\n",
                            "606720  99999    24.217000    5.533000        23.775822\n",
                            "720334  93764    39.167020  -77.166980        14.028670\n",
                            "725105  14770    40.821000  -76.864000        11.247276\n",
                            "726419  94929    46.549000  -90.919000         5.862026\n",
                            "999999  00425    43.985000  -73.095000         7.472709"
                        ]
                    },
                    "metadata": {},
                    "execution_count": 9
                }
            ],
            "metadata": {}
        },
        {
            "cell_type": "code",
            "execution_count": 10,
            "source": [
                "data_frame[data_frame.usaf_id == \"067000\"][\"air_temperature\"].resample(\"24h\").mean().compute().plot()"
            ],
            "outputs": [
                {
                    "output_type": "execute_result",
                    "data": {
                        "text/plain": [
                            "<AxesSubplot:xlabel='timestamp'>"
                        ]
                    },
                    "metadata": {},
                    "execution_count": 10
                },
                {
                    "output_type": "display_data",
                    "data": {
                        "image/png": "[encoded data removed]",
                        "text/plain": [
                            "<Figure size 432x288 with 1 Axes>"
                        ]
                    },
                    "metadata": {
                        "needs_background": "light"
                    }
                },
                {
                    "output_type": "stream",
                    "name": "stderr",
                    "text": [
                        "distributed.client - ERROR - Failed to reconnect to scheduler after 30.00 seconds, closing client\n",
                        "distributed.client - ERROR - Failed to reconnect to scheduler after 30.00 seconds, closing client\n",
                        "_GatheringFuture exception was never retrieved\n",
                        "future: <_GatheringFuture finished exception=CancelledError()>\n",
                        "asyncio.exceptions.CancelledError\n",
                        "_GatheringFuture exception was never retrieved\n",
                        "future: <_GatheringFuture finished exception=CancelledError()>\n",
                        "asyncio.exceptions.CancelledError\n"
                    ]
                }
            ],
            "metadata": {}
        }
    ],
    "metadata": {
        "orig_nbformat": 4,
        "language_info": {
            "name": "python",
            "version": "3.9.7",
            "mimetype": "text/x-python",
            "codemirror_mode": {
                "name": "ipython",
                "version": 3
            },
            "pygments_lexer": "ipython3",
            "nbconvert_exporter": "python",
            "file_extension": ".py"
        },
        "kernelspec": {
            "name": "python3",
            "display_name": "Python 3.9.7 64-bit ('chalkboard': virtualenv)"
        },
        "interpreter": {
            "hash": "0cdeeb1da3296e6c34ba7955f0c52855b4fde5189c7b7a1bce5013a2d9a6009f"
        }
    },
    "nbformat": 4,
    "nbformat_minor": 2
}