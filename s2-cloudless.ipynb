{
 "metadata": {
  "language_info": {
   "codemirror_mode": {
    "name": "ipython",
    "version": 3
   },
   "file_extension": ".py",
   "mimetype": "text/x-python",
   "name": "python",
   "nbconvert_exporter": "python",
   "pygments_lexer": "ipython3",
   "version": "3.9.5"
  },
  "orig_nbformat": 2,
  "kernelspec": {
   "name": "python395jvsc74a57bd00cdeeb1da3296e6c34ba7955f0c52855b4fde5189c7b7a1bce5013a2d9a6009f",
   "display_name": "Python 3.9.5 64-bit ('chalkboard': virtualenvwrapper)"
  },
  "metadata": {
   "interpreter": {
    "hash": "0cdeeb1da3296e6c34ba7955f0c52855b4fde5189c7b7a1bce5013a2d9a6009f"
   }
  }
 },
 "nbformat": 4,
 "nbformat_minor": 2,
 "cells": [
  {
   "cell_type": "code",
   "execution_count": 12,
   "metadata": {},
   "outputs": [
    {
     "output_type": "stream",
     "name": "stdout",
     "text": [
      "S2B_MSIL2A_20200610T174909_N0212_R141_T13TDE_20200909T085019.SAFE: 2020-06-10 17:49:09.024000+00:00 23.03298\nS2B_MSIL2A_20200617T173909_N0212_R098_T13TDE_20200823T033335.SAFE: 2020-06-17 17:39:09.024000+00:00 0.58675\nS2B_MSIL2A_20200620T174909_N0212_R141_T13TDE_20200908T083149.SAFE: 2020-06-20 17:49:09.024000+00:00 5.75454\nS2B_MSIL2A_20200630T174909_N0212_R141_T13TDE_20200824T182234.SAFE: 2020-06-30 17:49:09.024000+00:00 3.650161\nS2A_MSIL2A_20200615T174911_N0212_R141_T13TDE_20201027T073611.SAFE: 2020-06-15 17:49:11.024000+00:00 77.429159\nS2A_MSIL2A_20200625T174911_N0212_R141_T13TDE_20201027T080526.SAFE: 2020-06-25 17:49:11.024000+00:00 70.369336\nS2A_MSIL2A_20200612T173911_N0212_R098_T13TDE_20200827T023820.SAFE: 2020-06-12 17:39:11.024000+00:00 1.09092\nS2A_MSIL2A_20200622T173911_N0212_R098_T13TDE_20200823T163126.SAFE: 2020-06-22 17:39:11.024000+00:00 17.711199\nS2B_MSIL2A_20200607T173909_N0212_R098_T13TDE_20200826T132455.SAFE: 2020-06-07 17:39:09.024000+00:00 1.224517\nS2B_MSIL2A_20200627T173909_N0212_R098_T13TDE_20200824T091434.SAFE: 2020-06-27 17:39:09.024000+00:00 1.971764\nS2A_MSIL2A_20200602T173911_N0212_R098_T13TDE_20200825T205325.SAFE: 2020-06-02 17:39:11.024000+00:00 98.767918\nS2A_MSIL2A_20200605T174911_N0212_R141_T13TDE_20200826T055912.SAFE: 2020-06-05 17:49:11.024000+00:00 23.841965\n"
     ]
    }
   ],
   "source": [
    "import planetary_computer\n",
    "from pystac_client import Client\n",
    "catalog = Client.open(\"https://planetarycomputer.microsoft.com/api/stac/v1\")\n",
    "area_of_interest = {\n",
    "    \"type\": \"Polygon\",\n",
    "    \"coordinates\": [\n",
    "        [\n",
    "        [\n",
    "            -105.12388229370117,\n",
    "            40.17944711559011\n",
    "        ],\n",
    "        [\n",
    "            -105.12383937835693,\n",
    "            40.17915201841399\n",
    "        ],\n",
    "        [\n",
    "            -105.12369990348816,\n",
    "            40.179053652403404\n",
    "        ],\n",
    "        [\n",
    "            -105.12366771697998,\n",
    "            40.17772569730306\n",
    "        ],\n",
    "        [\n",
    "            -105.11982679367065,\n",
    "            40.17770930263323\n",
    "        ],\n",
    "        [\n",
    "            -105.11982679367065,\n",
    "            40.179455312715575\n",
    "        ],\n",
    "        [\n",
    "            -105.12388229370117,\n",
    "            40.17944711559011\n",
    "        ]\n",
    "        ]\n",
    "    ]\n",
    "}\n",
    "time_range = \"2020-06-01/2020-06-30\"\n",
    "search = catalog.search(\n",
    "    collections=[\"sentinel-2-l2a\"],\n",
    "    intersects=area_of_interest,\n",
    "    datetime=time_range\n",
    ")\n",
    "items = list(search.items())\n",
    "for item in items:\n",
    "    print(f\"{item.id}: {item.datetime} {item.ext.eo.cloud_cover}\")"
   ]
  },
  {
   "cell_type": "code",
   "execution_count": 20,
   "metadata": {
    "tags": []
   },
   "outputs": [
    {
     "output_type": "stream",
     "name": "stdout",
     "text": [
      "{'safe-manifest': <Asset href=https://sentinel2l2a01.blob.core.windows.net/sentinel2-l2/13/T/DE/2020/06/10/S2B_MSIL2A_20200610T174909_N0212_R141_T13TDE_20200909T085019.SAFE/manifest.safe>, 'product-metadata': <Asset href=https://sentinel2l2a01.blob.core.windows.net/sentinel2-l2/13/T/DE/2020/06/10/S2B_MSIL2A_20200610T174909_N0212_R141_T13TDE_20200909T085019.SAFE/./MTD_MSIL2A.xml>, 'granule-metadata': <Asset href=https://sentinel2l2a01.blob.core.windows.net/sentinel2-l2/13/T/DE/2020/06/10/S2B_MSIL2A_20200610T174909_N0212_R141_T13TDE_20200909T085019.SAFE/GRANULE/L2A_T13TDE_A017041_20200610T175528/MTD_TL.xml>, 'inspire-metadata': <Asset href=https://sentinel2l2a01.blob.core.windows.net/sentinel2-l2/13/T/DE/2020/06/10/S2B_MSIL2A_20200610T174909_N0212_R141_T13TDE_20200909T085019.SAFE/./INSPIRE.xml>, 'datastrip-metadata': <Asset href=https://sentinel2l2a01.blob.core.windows.net/sentinel2-l2/13/T/DE/2020/06/10/S2B_MSIL2A_20200610T174909_N0212_R141_T13TDE_20200909T085019.SAFE/DATASTRIP/DS_ESRI_20200909T085021_S20200610T175528/MTD_DS.xml>, 'B02': <Asset href=https://sentinel2l2a01.blob.core.windows.net/sentinel2-l2/13/T/DE/2020/06/10/S2B_MSIL2A_20200610T174909_N0212_R141_T13TDE_20200909T085019.SAFE/GRANULE/L2A_T13TDE_A017041_20200610T175528/IMG_DATA/R10m/T13TDE_20200610T174909_B02_10m.tif>, 'B03': <Asset href=https://sentinel2l2a01.blob.core.windows.net/sentinel2-l2/13/T/DE/2020/06/10/S2B_MSIL2A_20200610T174909_N0212_R141_T13TDE_20200909T085019.SAFE/GRANULE/L2A_T13TDE_A017041_20200610T175528/IMG_DATA/R10m/T13TDE_20200610T174909_B03_10m.tif>, 'B04': <Asset href=https://sentinel2l2a01.blob.core.windows.net/sentinel2-l2/13/T/DE/2020/06/10/S2B_MSIL2A_20200610T174909_N0212_R141_T13TDE_20200909T085019.SAFE/GRANULE/L2A_T13TDE_A017041_20200610T175528/IMG_DATA/R10m/T13TDE_20200610T174909_B04_10m.tif>, 'B05': <Asset href=https://sentinel2l2a01.blob.core.windows.net/sentinel2-l2/13/T/DE/2020/06/10/S2B_MSIL2A_20200610T174909_N0212_R141_T13TDE_20200909T085019.SAFE/GRANULE/L2A_T13TDE_A017041_20200610T175528/IMG_DATA/R60m/T13TDE_20200610T174909_B05_60m.tif>, 'B06': <Asset href=https://sentinel2l2a01.blob.core.windows.net/sentinel2-l2/13/T/DE/2020/06/10/S2B_MSIL2A_20200610T174909_N0212_R141_T13TDE_20200909T085019.SAFE/GRANULE/L2A_T13TDE_A017041_20200610T175528/IMG_DATA/R60m/T13TDE_20200610T174909_B06_60m.tif>, 'B07': <Asset href=https://sentinel2l2a01.blob.core.windows.net/sentinel2-l2/13/T/DE/2020/06/10/S2B_MSIL2A_20200610T174909_N0212_R141_T13TDE_20200909T085019.SAFE/GRANULE/L2A_T13TDE_A017041_20200610T175528/IMG_DATA/R60m/T13TDE_20200610T174909_B07_60m.tif>, 'B8A': <Asset href=https://sentinel2l2a01.blob.core.windows.net/sentinel2-l2/13/T/DE/2020/06/10/S2B_MSIL2A_20200610T174909_N0212_R141_T13TDE_20200909T085019.SAFE/GRANULE/L2A_T13TDE_A017041_20200610T175528/IMG_DATA/R60m/T13TDE_20200610T174909_B8A_60m.tif>, 'B11': <Asset href=https://sentinel2l2a01.blob.core.windows.net/sentinel2-l2/13/T/DE/2020/06/10/S2B_MSIL2A_20200610T174909_N0212_R141_T13TDE_20200909T085019.SAFE/GRANULE/L2A_T13TDE_A017041_20200610T175528/IMG_DATA/R60m/T13TDE_20200610T174909_B11_60m.tif>, 'B12': <Asset href=https://sentinel2l2a01.blob.core.windows.net/sentinel2-l2/13/T/DE/2020/06/10/S2B_MSIL2A_20200610T174909_N0212_R141_T13TDE_20200909T085019.SAFE/GRANULE/L2A_T13TDE_A017041_20200610T175528/IMG_DATA/R60m/T13TDE_20200610T174909_B12_60m.tif>, 'SCL-20m': <Asset href=https://sentinel2l2a01.blob.core.windows.net/sentinel2-l2/13/T/DE/2020/06/10/S2B_MSIL2A_20200610T174909_N0212_R141_T13TDE_20200909T085019.SAFE/GRANULE/L2A_T13TDE_A017041_20200610T175528/IMG_DATA/R20m/T13TDE_20200610T174909_SCL_20m.tif>, 'AOT-20m': <Asset href=https://sentinel2l2a01.blob.core.windows.net/sentinel2-l2/13/T/DE/2020/06/10/S2B_MSIL2A_20200610T174909_N0212_R141_T13TDE_20200909T085019.SAFE/GRANULE/L2A_T13TDE_A017041_20200610T175528/IMG_DATA/R20m/T13TDE_20200610T174909_AOT_20m.tif>, 'WVP-20m': <Asset href=https://sentinel2l2a01.blob.core.windows.net/sentinel2-l2/13/T/DE/2020/06/10/S2B_MSIL2A_20200610T174909_N0212_R141_T13TDE_20200909T085019.SAFE/GRANULE/L2A_T13TDE_A017041_20200610T175528/IMG_DATA/R20m/T13TDE_20200610T174909_WVP_20m.tif>, 'visual-20m': <Asset href=https://sentinel2l2a01.blob.core.windows.net/sentinel2-l2/13/T/DE/2020/06/10/S2B_MSIL2A_20200610T174909_N0212_R141_T13TDE_20200909T085019.SAFE/GRANULE/L2A_T13TDE_A017041_20200610T175528/IMG_DATA/R20m/T13TDE_20200610T174909_TCI_20m.tif>, 'B01': <Asset href=https://sentinel2l2a01.blob.core.windows.net/sentinel2-l2/13/T/DE/2020/06/10/S2B_MSIL2A_20200610T174909_N0212_R141_T13TDE_20200909T085019.SAFE/GRANULE/L2A_T13TDE_A017041_20200610T175528/IMG_DATA/R60m/T13TDE_20200610T174909_B01_60m.tif>, 'B09': <Asset href=https://sentinel2l2a01.blob.core.windows.net/sentinel2-l2/13/T/DE/2020/06/10/S2B_MSIL2A_20200610T174909_N0212_R141_T13TDE_20200909T085019.SAFE/GRANULE/L2A_T13TDE_A017041_20200610T175528/IMG_DATA/R60m/T13TDE_20200610T174909_B09_60m.tif>, 'SCL-60m': <Asset href=https://sentinel2l2a01.blob.core.windows.net/sentinel2-l2/13/T/DE/2020/06/10/S2B_MSIL2A_20200610T174909_N0212_R141_T13TDE_20200909T085019.SAFE/GRANULE/L2A_T13TDE_A017041_20200610T175528/IMG_DATA/R60m/T13TDE_20200610T174909_SCL_60m.tif>, 'AOT-60m': <Asset href=https://sentinel2l2a01.blob.core.windows.net/sentinel2-l2/13/T/DE/2020/06/10/S2B_MSIL2A_20200610T174909_N0212_R141_T13TDE_20200909T085019.SAFE/GRANULE/L2A_T13TDE_A017041_20200610T175528/IMG_DATA/R60m/T13TDE_20200610T174909_AOT_60m.tif>, 'WVP-60m': <Asset href=https://sentinel2l2a01.blob.core.windows.net/sentinel2-l2/13/T/DE/2020/06/10/S2B_MSIL2A_20200610T174909_N0212_R141_T13TDE_20200909T085019.SAFE/GRANULE/L2A_T13TDE_A017041_20200610T175528/IMG_DATA/R60m/T13TDE_20200610T174909_WVP_60m.tif>, 'visual-60m': <Asset href=https://sentinel2l2a01.blob.core.windows.net/sentinel2-l2/13/T/DE/2020/06/10/S2B_MSIL2A_20200610T174909_N0212_R141_T13TDE_20200909T085019.SAFE/GRANULE/L2A_T13TDE_A017041_20200610T175528/IMG_DATA/R60m/T13TDE_20200610T174909_TCI_60m.tif>, 'B08': <Asset href=https://sentinel2l2a01.blob.core.windows.net/sentinel2-l2/13/T/DE/2020/06/10/S2B_MSIL2A_20200610T174909_N0212_R141_T13TDE_20200909T085019.SAFE/GRANULE/L2A_T13TDE_A017041_20200610T175528/IMG_DATA/R10m/T13TDE_20200610T174909_B08_10m.tif>, 'AOT-10m': <Asset href=https://sentinel2l2a01.blob.core.windows.net/sentinel2-l2/13/T/DE/2020/06/10/S2B_MSIL2A_20200610T174909_N0212_R141_T13TDE_20200909T085019.SAFE/GRANULE/L2A_T13TDE_A017041_20200610T175528/IMG_DATA/R10m/T13TDE_20200610T174909_AOT_10m.tif>, 'WVP-10m': <Asset href=https://sentinel2l2a01.blob.core.windows.net/sentinel2-l2/13/T/DE/2020/06/10/S2B_MSIL2A_20200610T174909_N0212_R141_T13TDE_20200909T085019.SAFE/GRANULE/L2A_T13TDE_A017041_20200610T175528/IMG_DATA/R10m/T13TDE_20200610T174909_WVP_10m.tif>, 'visual-10m': <Asset href=https://sentinel2l2a01.blob.core.windows.net/sentinel2-l2/13/T/DE/2020/06/10/S2B_MSIL2A_20200610T174909_N0212_R141_T13TDE_20200909T085019.SAFE/GRANULE/L2A_T13TDE_A017041_20200610T175528/IMG_DATA/R10m/T13TDE_20200610T174909_TCI_10m.tif>, 'preview': <Asset href=https://sentinel2l2a01.blob.core.windows.net/sentinel2-l2/13/T/DE/2020/06/10/S2B_MSIL2A_20200610T174909_N0212_R141_T13TDE_20200909T085019.SAFE/GRANULE/L2A_T13TDE_A017041_20200610T175528/QI_DATA/T13TDE_20200610T174909_PVI.tif>}\n"
     ]
    }
   ],
   "source": [
    "bands = [\"B01\", \"B02\", \"B04\", \"B05\", \"B08\", \"B8A\", \"B09\", \"B10\", \"B11\", \"B12\", \"dataMask\"]\n",
    "print(items[0].assets.keys())"
   ]
  },
  {
   "cell_type": "code",
   "execution_count": 14,
   "metadata": {},
   "outputs": [],
   "source": [
    "from s2cloudless import S2PixelCloudDetector\n",
    "cloud_detector = S2PixelCloudDetector(\n",
    "    threshold=0.4,\n",
    "    average_over=4,\n",
    "    dilation_size=2,\n",
    "    all_bands=False\n",
    ")"
   ]
  }
 ]
}