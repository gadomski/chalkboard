{
 "metadata": {
  "language_info": {
   "codemirror_mode": {
    "name": "ipython",
    "version": 3
   },
   "file_extension": ".py",
   "mimetype": "text/x-python",
   "name": "python",
   "nbconvert_exporter": "python",
   "pygments_lexer": "ipython3",
   "version": "3.9.5"
  },
  "orig_nbformat": 2,
  "kernelspec": {
   "name": "python395jvsc74a57bd00cdeeb1da3296e6c34ba7955f0c52855b4fde5189c7b7a1bce5013a2d9a6009f",
   "display_name": "Python 3.9.5 64-bit ('chalkboard': virtualenvwrapper)"
  }
 },
 "nbformat": 4,
 "nbformat_minor": 2,
 "cells": [
  {
   "source": [
    "# Creating STAC items from large, remote netCDF4 files\n",
    "\n",
    "It GOES, obviously.\n",
    "GDAL only allows VSI virtual file system API support with new-ish linux kernels: https://gdal.org/drivers/raster/netcdf.html#vsi-virtual-file-system-api-support.\n",
    "This makes testing/development on OSX and other systems a PITA.\n",
    "But we're not actually reading the data, we just want to projection information and other tags.\n",
    "Since netCDF4 files are based on HDF5, let's use HDF5 to read the information over the network.\n",
    "Specifically, we'll grab projection information as described in https://gdal.org/drivers/raster/netcdf.html#georeference and create the spatial reference via pyproj."
   ],
   "cell_type": "markdown",
   "metadata": {}
  },
  {
   "cell_type": "code",
   "execution_count": 1,
   "metadata": {},
   "outputs": [
    {
     "output_type": "stream",
     "name": "stdout",
     "text": [
      "CMI\nDQF\nalgorithm_dynamic_input_data_container\nalgorithm_product_version_container\nband\nband_id\nband_wavelength\nchannel_gain_field\nchannel_integration_time\nearth_sun_distance_anomaly_in_AU\nesun\nfocal_plane_temperature_threshold_decreasing\nfocal_plane_temperature_threshold_exceeded_count\nfocal_plane_temperature_threshold_increasing\ngeospatial_lat_lon_extent\ngoes_imager_projection\nkappa0\nmax_reflectance_factor\nmaximum_focal_plane_temperature\nmean_reflectance_factor\nmin_reflectance_factor\nnominal_satellite_height\nnominal_satellite_subpoint_lat\nnominal_satellite_subpoint_lon\nnumber_of_image_bounds\nnumber_of_time_bounds\noutlier_pixel_count\npercent_uncorrectable_GRB_errors\npercent_uncorrectable_L0_errors\nplanck_bc1\nplanck_bc2\nplanck_fk1\nplanck_fk2\nprocessing_parm_version_container\nstd_dev_reflectance_factor\nt\ntime_bounds\ntotal_number_of_points\nvalid_pixel_count\nx\nx_image\nx_image_bounds\ny\ny_image\ny_image_bounds\n"
     ]
    }
   ],
   "source": [
    "import h5py\n",
    "import fsspec\n",
    "\n",
    "url = \"https://noaa-goes16.s3.amazonaws.com/ABI-L2-CMIPM/2021/140/12/OR_ABI-L2-CMIPM1-M6C01_G16_s20211401200257_e20211401200315_c20211401200376.nc\"\n",
    "with fsspec.open(url) as bytes:\n",
    "    file = h5py.File(bytes)\n",
    "    projection = file[\"goes_imager_projection\"]\n",
    "    sweep_angle_axis = projection.attrs[\"sweep_angle_axis\"].decode(\"utf-8\")\n",
    "    satellite_height = projection.attrs[\"perspective_point_height\"][0]\n",
    "    latitude_natural_origin = projection.attrs[\"latitude_of_projection_origin\"][0]\n",
    "    longitude_natrual_origin = projection.attrs[\"longitude_of_projection_origin\"][0]\n",
    "    extent = file[\"geospatial_lat_lon_extent\"]\n",
    "    xmin = extent.attrs[\"geospatial_westbound_longitude\"][0]\n",
    "    ymin = extent.attrs[\"geospatial_southbound_latitude\"][0]\n",
    "    xmax = extent.attrs[\"geospatial_eastbound_longitude\"][0]\n",
    "    ymax = extent.attrs[\"geospatial_northbound_latitude\"][0]\n",
    "    rowcount = len(file[\"x\"][:])\n",
    "    colcount = len(file[\"y\"][:])\n",
    "    x_bounds = file[\"x_image_bounds\"][:]\n",
    "    y_bounds = file[\"y_image_bounds\"][:]\n",
    "    for key in file.keys():\n",
    "        print(key)"
   ]
  },
  {
   "cell_type": "code",
   "execution_count": 3,
   "metadata": {},
   "outputs": [],
   "source": [
    "from pyproj.crs import ProjectedCRS, GeographicCRS\n",
    "from pyproj.crs.datum import CustomDatum, CustomEllipsoid\n",
    "from pyproj.crs.coordinate_operation import GeostationarySatelliteConversion\n",
    "\n",
    "ellipsoid = CustomEllipsoid.from_name(\"GRS80\")\n",
    "datum = CustomDatum(ellipsoid=ellipsoid)\n",
    "conversion = GeostationarySatelliteConversion(sweep_angle_axis, satellite_height, latitude_natural_origin, longitude_natrual_origin)\n",
    "crs = ProjectedCRS(conversion=conversion, geodetic_crs=GeographicCRS(datum=datum))\n",
    "projection_shape = [rowcount, colcount]\n",
    "xres = (x_bounds[1] - x_bounds[0]) / rowcount\n",
    "yres = (y_bounds[1] - y_bounds[0]) / colcount\n",
    "projection_transform = [\n",
    "    xres, 0, x_bounds[0], 0, -yres, y_bounds[1], 0, 0, 1\n",
    "]"
   ]
  },
  {
   "cell_type": "code",
   "execution_count": 45,
   "metadata": {},
   "outputs": [],
   "source": [
    "from pyproj import CRS\n",
    "\n",
    "rio_crs = CRS(\"PROJCS[\\\"unnamed\\\",GEOGCS[\\\"unknown\\\",DATUM[\\\"unnamed\\\",SPHEROID[\\\"Spheroid\\\",6378137,298.2572221]],PRIMEM[\\\"Greenwich\\\",0],UNIT[\\\"degree\\\",0.0174532925199433,AUTHORITY[\\\"EPSG\\\",\\\"9122\\\"]]],PROJECTION[\\\"Geostationary_Satellite\\\"],PARAMETER[\\\"central_meridian\\\",-75],PARAMETER[\\\"satellite_height\\\",35786023],PARAMETER[\\\"false_easting\\\",0],PARAMETER[\\\"false_northing\\\",0],UNIT[\\\"metre\\\",1,AUTHORITY[\\\"EPSG\\\",\\\"9001\\\"]],AXIS[\\\"Easting\\\",EAST],AXIS[\\\"Northing\\\",NORTH],EXTENSION[\\\"PROJ4\\\",\\\"+proj=geos +lon_0=-75 +h=35786023 +x_0=0 +y_0=0 +ellps=GRS80 +units=m +no_defs +sweep=x\\\"]]\")"
   ]
  },
  {
   "cell_type": "code",
   "execution_count": 49,
   "metadata": {},
   "outputs": [
    {
     "output_type": "stream",
     "name": "stdout",
     "text": [
      "  {\n    \"$schema\": \"https://proj.org/schemas/v0.2/projjson.schema.json\",\n    \"type\": \"ProjectedCRS\",\n-   \"name\": \"undefined\",\n?              ----\n+   \"name\": \"unnamed\",\n?               ++\n    \"base_crs\": {\n-     \"name\": \"undefined\",\n?                ^^^^ ^^\n+     \"name\": \"unknown\",\n?                ^ ^^^\n      \"datum\": {\n        \"type\": \"GeodeticReferenceFrame\",\n-       \"name\": \"undefined\",\n?                  ----\n+       \"name\": \"unnamed\",\n?                   ++\n        \"ellipsoid\": {\n-         \"name\": \"GRS 1980(IUGG, 1980)\",\n+         \"name\": \"Spheroid\",\n          \"semi_major_axis\": 6378137,\n-         \"inverse_flattening\": 298.257222101\n?                                          --\n+         \"inverse_flattening\": 298.2572221\n        }\n      },\n      \"coordinate_system\": {\n        \"subtype\": \"ellipsoidal\",\n        \"axis\": [\n          {\n            \"name\": \"Longitude\",\n            \"abbreviation\": \"lon\",\n            \"direction\": \"east\",\n            \"unit\": \"degree\"\n          },\n          {\n            \"name\": \"Latitude\",\n            \"abbreviation\": \"lat\",\n            \"direction\": \"north\",\n            \"unit\": \"degree\"\n          }\n        ]\n      }\n    },\n    \"conversion\": {\n      \"name\": \"unknown\",\n      \"method\": {\n        \"name\": \"Geostationary Satellite (Sweep X)\"\n      },\n      \"parameters\": [\n        {\n-         \"name\": \"Satellite height\",\n-         \"value\": 35786023,\n-         \"unit\": \"metre\"\n-       },\n-       {\n-         \"name\": \"Latitude of natural origin\",\n-         \"value\": 0,\n-         \"unit\": \"degree\",\n-         \"id\": {\n-           \"authority\": \"EPSG\",\n-           \"code\": 8801\n-         }\n-       },\n-       {\n          \"name\": \"Longitude of natural origin\",\n          \"value\": -75,\n          \"unit\": \"degree\",\n          \"id\": {\n            \"authority\": \"EPSG\",\n            \"code\": 8802\n          }\n+       },\n+       {\n+         \"name\": \"Satellite Height\",\n+         \"value\": 35786023,\n+         \"unit\": \"metre\"\n        },\n        {\n          \"name\": \"False easting\",\n          \"value\": 0,\n          \"unit\": \"metre\",\n          \"id\": {\n            \"authority\": \"EPSG\",\n            \"code\": 8806\n          }\n        },\n        {\n          \"name\": \"False northing\",\n          \"value\": 0,\n          \"unit\": \"metre\",\n          \"id\": {\n            \"authority\": \"EPSG\",\n            \"code\": 8807\n          }\n        }\n      ]\n    },\n    \"coordinate_system\": {\n      \"subtype\": \"Cartesian\",\n      \"axis\": [\n        {\n          \"name\": \"Easting\",\n-         \"abbreviation\": \"E\",\n?                          -\n+         \"abbreviation\": \"\",\n          \"direction\": \"east\",\n          \"unit\": \"metre\"\n        },\n        {\n          \"name\": \"Northing\",\n-         \"abbreviation\": \"N\",\n?                          -\n+         \"abbreviation\": \"\",\n          \"direction\": \"north\",\n          \"unit\": \"metre\"\n        }\n      ]\n    }\n  }"
     ]
    }
   ],
   "source": [
    "from difflib import Differ\n",
    "import sys\n",
    "\n",
    "crs_json = crs.to_json(pretty=True).splitlines(keepends=True)\n",
    "rio_crs_json = rio_crs.to_json(pretty=True).splitlines(keepends=True)\n",
    "differ = Differ()\n",
    "result = list(differ.compare(crs_json, rio_crs_json))\n",
    "sys.stdout.writelines(result)"
   ]
  }
 ]
}