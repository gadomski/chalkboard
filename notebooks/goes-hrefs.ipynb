{
 "metadata": {
  "language_info": {
   "codemirror_mode": {
    "name": "ipython",
    "version": 3
   },
   "file_extension": ".py",
   "mimetype": "text/x-python",
   "name": "python",
   "nbconvert_exporter": "python",
   "pygments_lexer": "ipython3",
   "version": "3.9.5"
  },
  "orig_nbformat": 2,
  "kernelspec": {
   "name": "python395jvsc74a57bd00cdeeb1da3296e6c34ba7955f0c52855b4fde5189c7b7a1bce5013a2d9a6009f",
   "display_name": "Python 3.9.5 64-bit ('chalkboard': virtualenvwrapper)"
  }
 },
 "nbformat": 4,
 "nbformat_minor": 2,
 "cells": [
  {
   "cell_type": "code",
   "execution_count": 10,
   "metadata": {},
   "outputs": [
    {
     "output_type": "stream",
     "name": "stdout",
     "text": [
      "https://noaa-goes16.s3.amazonaws.com/ABI-L2-CMIPC/2021/145/18/OR_ABI-L2-CMIPC-M6C01_G16_s20211451801159_e20211451803532_c20211451804001.nc\n",
      "https://noaa-goes16.s3.amazonaws.com/ABI-L2-CMIPF/2021/145/18/OR_ABI-L2-CMIPF-M6C01_G16_s20211451800191_e20211451809499_c20211451809569.nc\n",
      "https://noaa-goes16.s3.amazonaws.com/ABI-L2-CMIPM/2021/145/18/OR_ABI-L2-CMIPM1-M6C01_G16_s20211451800267_e20211451800324_c20211451800381.nc\n",
      "https://noaa-goes16.s3.amazonaws.com/ABI-L2-FDCC/2021/145/18/OR_ABI-L2-FDCC-M6_G16_s20211451801159_e20211451803532_c20211451804174.nc\n",
      "https://noaa-goes16.s3.amazonaws.com/ABI-L2-FDCF/2021/145/18/OR_ABI-L2-FDCF-M6_G16_s20211451800191_e20211451809499_c20211451810051.nc\n",
      "https://noaa-goes16.s3.amazonaws.com/ABI-L2-LSTC/2021/145/18/OR_ABI-L2-LSTC-M6_G16_s20211451801159_e20211451803532_c20211451804368.nc\n",
      "https://noaa-goes16.s3.amazonaws.com/ABI-L2-LSTF/2021/145/18/OR_ABI-L2-LSTF-M6_G16_s20211451800191_e20211451809499_c20211451811005.nc\n",
      "https://noaa-goes16.s3.amazonaws.com/ABI-L2-LSTM/2021/145/18/OR_ABI-L2-LSTM1-M6_G16_s20211451800267_e20211451800324_c20211451800503.nc\n",
      "https://noaa-goes16.s3.amazonaws.com/ABI-L2-MCMIPC/2021/145/18/OR_ABI-L2-MCMIPC-M6_G16_s20211451801159_e20211451803532_c20211451804034.nc\n",
      "https://noaa-goes16.s3.amazonaws.com/ABI-L2-MCMIPF/2021/145/18/OR_ABI-L2-MCMIPF-M6_G16_s20211451800191_e20211451809511_c20211451810002.nc\n",
      "https://noaa-goes16.s3.amazonaws.com/ABI-L2-MCMIPM/2021/145/18/OR_ABI-L2-MCMIPM1-M6_G16_s20211451800267_e20211451800324_c20211451800407.nc\n",
      "https://noaa-goes16.s3.amazonaws.com/ABI-L2-RRQPEF/2021/145/18/OR_ABI-L2-RRQPEF-M6_G16_s20211451800191_e20211451809499_c20211451810006.nc\n",
      "https://noaa-goes16.s3.amazonaws.com/ABI-L2-SSTF/2021/145/18/OR_ABI-L2-SSTF-M6_G16_s20211451800191_e20211451859499_c20211451904466.nc\n",
      "https://noaa-goes17.s3.amazonaws.com/ABI-L2-CMIPC/2021/145/18/OR_ABI-L2-CMIPC-M6C01_G17_s20211451801176_e20211451803549_c20211451804016.nc\n",
      "https://noaa-goes17.s3.amazonaws.com/ABI-L2-CMIPF/2021/145/18/OR_ABI-L2-CMIPF-M6C01_G17_s20211451800321_e20211451809388_c20211451809437.nc\n",
      "https://noaa-goes17.s3.amazonaws.com/ABI-L2-CMIPM/2021/145/18/OR_ABI-L2-CMIPM1-M6C01_G17_s20211451800255_e20211451800313_c20211451800359.nc\n",
      "https://noaa-goes17.s3.amazonaws.com/ABI-L2-FDCC/2021/145/18/OR_ABI-L2-FDCC-M6_G17_s20211451801176_e20211451803549_c20211451804155.nc\n",
      "https://noaa-goes17.s3.amazonaws.com/ABI-L2-FDCF/2021/145/18/OR_ABI-L2-FDCF-M6_G17_s20211451800321_e20211451809388_c20211451809518.nc\n",
      "https://noaa-goes17.s3.amazonaws.com/ABI-L2-LSTC/2021/145/18/OR_ABI-L2-LSTC-M6_G17_s20211451801176_e20211451803549_c20211451804383.nc\n",
      "https://noaa-goes17.s3.amazonaws.com/ABI-L2-LSTF/2021/145/18/OR_ABI-L2-LSTF-M6_G17_s20211451800321_e20211451809388_c20211451810357.nc\n",
      "https://noaa-goes17.s3.amazonaws.com/ABI-L2-LSTM/2021/145/18/OR_ABI-L2-LSTM1-M6_G17_s20211451800255_e20211451800313_c20211451800473.nc\n",
      "https://noaa-goes17.s3.amazonaws.com/ABI-L2-MCMIPC/2021/145/18/OR_ABI-L2-MCMIPC-M6_G17_s20211451801176_e20211451803549_c20211451804062.nc\n",
      "https://noaa-goes17.s3.amazonaws.com/ABI-L2-MCMIPF/2021/145/18/OR_ABI-L2-MCMIPF-M6_G17_s20211451800321_e20211451809393_c20211451809540.nc\n",
      "https://noaa-goes17.s3.amazonaws.com/ABI-L2-MCMIPM/2021/145/18/OR_ABI-L2-MCMIPM1-M6_G17_s20211451800255_e20211451800324_c20211451800388.nc\n",
      "https://noaa-goes17.s3.amazonaws.com/ABI-L2-RRQPEF/2021/145/18/OR_ABI-L2-RRQPEF-M6_G17_s20211451800321_e20211451809388_c20211451809505.nc\n",
      "https://noaa-goes17.s3.amazonaws.com/ABI-L2-SSTF/2021/145/18/OR_ABI-L2-SSTF-M6_G17_s20211451800321_e20211451859388_c20211451904300.nc\n"
     ]
    }
   ],
   "source": [
    "import datetime\n",
    "\n",
    "import boto3\n",
    "\n",
    "PRODUCTS = [\n",
    "    \"ABI-L2-CMIPC\",\n",
    "    \"ABI-L2-CMIPF\",\n",
    "    \"ABI-L2-CMIPM\",\n",
    "    \"ABI-L2-FDCC\",\n",
    "    \"ABI-L2-FDCF\",\n",
    "    \"ABI-L2-LSTC\",\n",
    "    \"ABI-L2-LSTF\",\n",
    "    \"ABI-L2-LSTM\",\n",
    "    \"ABI-L2-MCMIPC\",\n",
    "    \"ABI-L2-MCMIPF\",\n",
    "    \"ABI-L2-MCMIPM\",\n",
    "    \"ABI-L2-RRQPEF\",\n",
    "    \"ABI-L2-SSTF\"\n",
    "]\n",
    "\n",
    "now = datetime.date.today()\n",
    "year = now.year\n",
    "day_of_year = now.timetuple().tm_yday\n",
    "client = boto3.client(\"s3\")\n",
    "url_base = \"https://noaa-goes16.s3.amazonaws.com/ABI-L2-ACMM/2021/004/03/OR_ABI-L2-ACMM1-M6_G16_s20210040302250_e20210040302307_c20210040302541.nc\"\n",
    "\n",
    "for bucket in [\"noaa-goes16\", \"noaa-goes17\"]:\n",
    "    for product in PRODUCTS:\n",
    "        response = client.list_objects_v2(\n",
    "            Bucket=bucket,\n",
    "            MaxKeys=1,\n",
    "            Prefix=f\"{product}/{year}/{day_of_year - 1}/18\"\n",
    "        )\n",
    "        key = next(content[\"Key\"] for content in response[\"Contents\"])\n",
    "        url = f\"https://{bucket}.s3.amazonaws.com/{key}\"\n",
    "        print(url)\n"
   ]
  },
  {
   "cell_type": "code",
   "execution_count": null,
   "metadata": {},
   "outputs": [],
   "source": []
  }
 ]
}