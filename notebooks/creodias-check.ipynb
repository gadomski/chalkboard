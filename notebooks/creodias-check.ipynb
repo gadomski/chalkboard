{
 "cells": [
  {
   "attachments": {},
   "cell_type": "markdown",
   "metadata": {},
   "source": [
    "# Checking CREODIAS\n",
    "\n",
    "Do they have everything we need for the Planetary Computer?\n",
    "First, what do we have in the Planetary Computer?"
   ]
  },
  {
   "cell_type": "code",
   "execution_count": 2,
   "metadata": {},
   "outputs": [
    {
     "data": {
      "text/html": [
       "<pre style=\"white-space:pre;overflow-x:auto;line-height:normal;font-family:Menlo,'DejaVu Sans Mono',consolas,'Courier New',monospace\">┏━━━━━━━━━━━━━━━━━━━━━━━━━━━━━━━━━━┳━━━━━━━━━━━━━━━━━━━━━━━━━━━━━━━━━━━━━━━━━━━━━━━━━━━━━━━━━━━━━━━━━━━━━━━━━━━━━━┓\n",
       "┃<span style=\"font-weight: bold\"> id                               </span>┃<span style=\"font-weight: bold\"> description                                                                  </span>┃\n",
       "┡━━━━━━━━━━━━━━━━━━━━━━━━━━━━━━━━━━╇━━━━━━━━━━━━━━━━━━━━━━━━━━━━━━━━━━━━━━━━━━━━━━━━━━━━━━━━━━━━━━━━━━━━━━━━━━━━━━┩\n",
       "│ sentinel-5p-l2-netcdf            │ The Copernicus [Sentinel-5                                                   │\n",
       "│                                  │ Precursor](https://sentinels.copernicus.eu/web/sentinel/missions/sentinel... │\n",
       "│ sentinel-3-olci-wfr-l2-netcdf    │ This Collection provides Sentinel-3 Full Resolution [OLCI Level-2 Water]     │\n",
       "│                                  │ products containin...                                                        │\n",
       "│ sentinel-3-synergy-aod-l2-netcdf │ This Collection provides the Sentinel-3 [Synergy Level-2 Aerosol Optical     │\n",
       "│                                  │ Depth](https://sentinels.co...                                               │\n",
       "│ sentinel-3-synergy-v10-l2-netcdf │ This Collection provides the Sentinel-3 [Synergy Level-2 10-Day Surface      │\n",
       "│                                  │ Reflectance and NDVI](https:...                                              │\n",
       "│ sentinel-3-olci-lfr-l2-netcdf    │ This collection provides Sentinel-3 Full Resolution [OLCI Level-2 Land]      │\n",
       "│                                  │ products containing...                                                       │\n",
       "│ sentinel-3-sral-lan-l2-netcdf    │ This Collection provides Sentinel-3 [SRAL Level-2 Land                       │\n",
       "│                                  │ Altimetry](https://sentinel.esa.int/web/senti...                             │\n",
       "│ sentinel-3-slstr-lst-l2-netcdf   │ This Collection provides Sentinel-3 [SLSTR Level-2 Land Surface              │\n",
       "│                                  │ Temperature](https://sentinel.esa.in...                                      │\n",
       "│ sentinel-3-slstr-wst-l2-netcdf   │ This Collection provides Sentinel-3 [SLSTR Level-2 Water Surface             │\n",
       "│                                  │ Temperature](https://sentinel.esa.i...                                       │\n",
       "│ sentinel-3-sral-wat-l2-netcdf    │ This Collection provides Sentinel-3 [SRAL Level-2 Ocean                      │\n",
       "│                                  │ Altimetry](https://sentinel.esa.int/web/sent...                              │\n",
       "│ sentinel-3-slstr-frp-l2-netcdf   │ This Collection provides Sentinel-3 [SLSTR Level-2 Fire Radiative            │\n",
       "│                                  │ Power](https://sentinel.esa.int/we...                                        │\n",
       "│ sentinel-3-synergy-syn-l2-netcdf │ This Collection provides the Sentinel-3 [Synergy Level-2 Land Surface        │\n",
       "│                                  │ Reflectance and Aerosol](https...                                            │\n",
       "│ sentinel-3-synergy-vgp-l2-netcdf │ This Collection provides the Sentinel-3 [Synergy Level-2 Top of Atmosphere   │\n",
       "│                                  │ Reflectance](https://sent...                                                 │\n",
       "│ sentinel-3-synergy-vg1-l2-netcdf │ This Collection provides the Sentinel-3 [Synergy Level-2 1-Day Surface       │\n",
       "│                                  │ Reflectance and NDVI](https:/...                                             │\n",
       "└──────────────────────────────────┴──────────────────────────────────────────────────────────────────────────────┘\n",
       "</pre>\n"
      ],
      "text/plain": [
       "┏━━━━━━━━━━━━━━━━━━━━━━━━━━━━━━━━━━┳━━━━━━━━━━━━━━━━━━━━━━━━━━━━━━━━━━━━━━━━━━━━━━━━━━━━━━━━━━━━━━━━━━━━━━━━━━━━━━┓\n",
       "┃\u001b[1m \u001b[0m\u001b[1mid                              \u001b[0m\u001b[1m \u001b[0m┃\u001b[1m \u001b[0m\u001b[1mdescription                                                                 \u001b[0m\u001b[1m \u001b[0m┃\n",
       "┡━━━━━━━━━━━━━━━━━━━━━━━━━━━━━━━━━━╇━━━━━━━━━━━━━━━━━━━━━━━━━━━━━━━━━━━━━━━━━━━━━━━━━━━━━━━━━━━━━━━━━━━━━━━━━━━━━━┩\n",
       "│ sentinel-5p-l2-netcdf            │ The Copernicus [Sentinel-5                                                   │\n",
       "│                                  │ Precursor](https://sentinels.copernicus.eu/web/sentinel/missions/sentinel... │\n",
       "│ sentinel-3-olci-wfr-l2-netcdf    │ This Collection provides Sentinel-3 Full Resolution [OLCI Level-2 Water]     │\n",
       "│                                  │ products containin...                                                        │\n",
       "│ sentinel-3-synergy-aod-l2-netcdf │ This Collection provides the Sentinel-3 [Synergy Level-2 Aerosol Optical     │\n",
       "│                                  │ Depth](https://sentinels.co...                                               │\n",
       "│ sentinel-3-synergy-v10-l2-netcdf │ This Collection provides the Sentinel-3 [Synergy Level-2 10-Day Surface      │\n",
       "│                                  │ Reflectance and NDVI](https:...                                              │\n",
       "│ sentinel-3-olci-lfr-l2-netcdf    │ This collection provides Sentinel-3 Full Resolution [OLCI Level-2 Land]      │\n",
       "│                                  │ products containing...                                                       │\n",
       "│ sentinel-3-sral-lan-l2-netcdf    │ This Collection provides Sentinel-3 [SRAL Level-2 Land                       │\n",
       "│                                  │ Altimetry](https://sentinel.esa.int/web/senti...                             │\n",
       "│ sentinel-3-slstr-lst-l2-netcdf   │ This Collection provides Sentinel-3 [SLSTR Level-2 Land Surface              │\n",
       "│                                  │ Temperature](https://sentinel.esa.in...                                      │\n",
       "│ sentinel-3-slstr-wst-l2-netcdf   │ This Collection provides Sentinel-3 [SLSTR Level-2 Water Surface             │\n",
       "│                                  │ Temperature](https://sentinel.esa.i...                                       │\n",
       "│ sentinel-3-sral-wat-l2-netcdf    │ This Collection provides Sentinel-3 [SRAL Level-2 Ocean                      │\n",
       "│                                  │ Altimetry](https://sentinel.esa.int/web/sent...                              │\n",
       "│ sentinel-3-slstr-frp-l2-netcdf   │ This Collection provides Sentinel-3 [SLSTR Level-2 Fire Radiative            │\n",
       "│                                  │ Power](https://sentinel.esa.int/we...                                        │\n",
       "│ sentinel-3-synergy-syn-l2-netcdf │ This Collection provides the Sentinel-3 [Synergy Level-2 Land Surface        │\n",
       "│                                  │ Reflectance and Aerosol](https...                                            │\n",
       "│ sentinel-3-synergy-vgp-l2-netcdf │ This Collection provides the Sentinel-3 [Synergy Level-2 Top of Atmosphere   │\n",
       "│                                  │ Reflectance](https://sent...                                                 │\n",
       "│ sentinel-3-synergy-vg1-l2-netcdf │ This Collection provides the Sentinel-3 [Synergy Level-2 1-Day Surface       │\n",
       "│                                  │ Reflectance and NDVI](https:/...                                             │\n",
       "└──────────────────────────────────┴──────────────────────────────────────────────────────────────────────────────┘\n"
      ]
     },
     "metadata": {},
     "output_type": "display_data"
    }
   ],
   "source": [
    "from IPython.display import display\n",
    "from pystac_client import Client\n",
    "from rich.table import Table\n",
    "\n",
    "client = Client.open(\"https://planetarycomputer.microsoft.com/api/stac/v1\")\n",
    "collections = [\n",
    "    c\n",
    "    for c in client.get_collections()\n",
    "    if c.id.startswith(\"sentinel-3\") or c.id.startswith(\"sentinel-5p\")\n",
    "]\n",
    "table = Table(\"id\", \"description\")\n",
    "for collection in collections:\n",
    "    table.add_row(collection.id, collection.description[0:100] + \"...\")\n",
    "display(table)"
   ]
  },
  {
   "attachments": {},
   "cell_type": "markdown",
   "metadata": {},
   "source": [
    "## Sentinel 3\n",
    "\n",
    "Let's start with Sentinel 3.\n",
    "We want to make sure that every sensor and product type is in the CREODIAS API."
   ]
  },
  {
   "cell_type": "code",
   "execution_count": 3,
   "metadata": {},
   "outputs": [
    {
     "data": {
      "text/html": [
       "<pre style=\"white-space:pre;overflow-x:auto;line-height:normal;font-family:Menlo,'DejaVu Sans Mono',consolas,'Courier New',monospace\">┏━━━━━━━━━━━━━━━━━━━━━━━━━━━━━━━━━━┳━━━━━━━━━━━━━━━━━━━━━━━━━━━━━━━━━━━━━━━━━━━━━━━━━━━━━━━━━━━━━━━━━━━━━━━━━━━━━━┓\n",
       "┃<span style=\"font-weight: bold\"> collection id                    </span>┃<span style=\"font-weight: bold\"> item name                                                                    </span>┃\n",
       "┡━━━━━━━━━━━━━━━━━━━━━━━━━━━━━━━━━━╇━━━━━━━━━━━━━━━━━━━━━━━━━━━━━━━━━━━━━━━━━━━━━━━━━━━━━━━━━━━━━━━━━━━━━━━━━━━━━━┩\n",
       "│ sentinel-3-olci-wfr-l2-netcdf    │ S3A_OL_2_WFR____20230422T020402_20230422T020702_20230422T041202_0179_098_06… │\n",
       "│ sentinel-3-synergy-aod-l2-netcdf │ S3A_SY_2_AOD____20230429T070010_20230429T074430_20230430T235229_2660_098_16… │\n",
       "│ sentinel-3-synergy-v10-l2-netcdf │ S3A_SY_2_V10____20230421T000000_20230430T235959_20230501T232158_SOUTH_EAST_… │\n",
       "│ sentinel-3-olci-lfr-l2-netcdf    │ S3B_OL_2_LFR____20230430T060221_20230430T060521_20230430T234003_0179_079_03… │\n",
       "│ sentinel-3-sral-lan-l2-netcdf    │ S3A_SR_2_LAN____20230430T222851_20230430T223850_20230501T000155_0599_098_18… │\n",
       "│ sentinel-3-slstr-lst-l2-netcdf   │ S3B_SL_2_LST____20230430T110218_20230430T110518_20230430T133645_0179_079_03… │\n",
       "│ sentinel-3-slstr-wst-l2-netcdf   │ S3A_SL_2_WST____20230414T081329_20230414T081629_20230414T092811_0179_097_33… │\n",
       "│ sentinel-3-sral-wat-l2-netcdf    │ S3B_SR_2_WAT____20230412T171045_20230412T175909_20230414T092220_2904_078_16… │\n",
       "│ sentinel-3-slstr-frp-l2-netcdf   │ S3A_SL_2_FRP____20230330T013248_20230330T013748_20230330T040243_0300_097_11… │\n",
       "│ sentinel-3-synergy-syn-l2-netcdf │ S3A_SY_2_SYN____20230430T132527_20230430T132827_20230430T235138_0179_098_18… │\n",
       "│ sentinel-3-synergy-vgp-l2-netcdf │ S3B_SY_2_VGP____20230430T160037_20230430T164457_20230430T220131_2660_079_04… │\n",
       "│ sentinel-3-synergy-vg1-l2-netcdf │ S3B_SY_2_VG1____20230430T000000_20230430T235959_20230501T123230_AFRICA_____… │\n",
       "└──────────────────────────────────┴──────────────────────────────────────────────────────────────────────────────┘\n",
       "</pre>\n"
      ],
      "text/plain": [
       "┏━━━━━━━━━━━━━━━━━━━━━━━━━━━━━━━━━━┳━━━━━━━━━━━━━━━━━━━━━━━━━━━━━━━━━━━━━━━━━━━━━━━━━━━━━━━━━━━━━━━━━━━━━━━━━━━━━━┓\n",
       "┃\u001b[1m \u001b[0m\u001b[1mcollection id                   \u001b[0m\u001b[1m \u001b[0m┃\u001b[1m \u001b[0m\u001b[1mitem name                                                                   \u001b[0m\u001b[1m \u001b[0m┃\n",
       "┡━━━━━━━━━━━━━━━━━━━━━━━━━━━━━━━━━━╇━━━━━━━━━━━━━━━━━━━━━━━━━━━━━━━━━━━━━━━━━━━━━━━━━━━━━━━━━━━━━━━━━━━━━━━━━━━━━━┩\n",
       "│ sentinel-3-olci-wfr-l2-netcdf    │ S3A_OL_2_WFR____20230422T020402_20230422T020702_20230422T041202_0179_098_06… │\n",
       "│ sentinel-3-synergy-aod-l2-netcdf │ S3A_SY_2_AOD____20230429T070010_20230429T074430_20230430T235229_2660_098_16… │\n",
       "│ sentinel-3-synergy-v10-l2-netcdf │ S3A_SY_2_V10____20230421T000000_20230430T235959_20230501T232158_SOUTH_EAST_… │\n",
       "│ sentinel-3-olci-lfr-l2-netcdf    │ S3B_OL_2_LFR____20230430T060221_20230430T060521_20230430T234003_0179_079_03… │\n",
       "│ sentinel-3-sral-lan-l2-netcdf    │ S3A_SR_2_LAN____20230430T222851_20230430T223850_20230501T000155_0599_098_18… │\n",
       "│ sentinel-3-slstr-lst-l2-netcdf   │ S3B_SL_2_LST____20230430T110218_20230430T110518_20230430T133645_0179_079_03… │\n",
       "│ sentinel-3-slstr-wst-l2-netcdf   │ S3A_SL_2_WST____20230414T081329_20230414T081629_20230414T092811_0179_097_33… │\n",
       "│ sentinel-3-sral-wat-l2-netcdf    │ S3B_SR_2_WAT____20230412T171045_20230412T175909_20230414T092220_2904_078_16… │\n",
       "│ sentinel-3-slstr-frp-l2-netcdf   │ S3A_SL_2_FRP____20230330T013248_20230330T013748_20230330T040243_0300_097_11… │\n",
       "│ sentinel-3-synergy-syn-l2-netcdf │ S3A_SY_2_SYN____20230430T132527_20230430T132827_20230430T235138_0179_098_18… │\n",
       "│ sentinel-3-synergy-vgp-l2-netcdf │ S3B_SY_2_VGP____20230430T160037_20230430T164457_20230430T220131_2660_079_04… │\n",
       "│ sentinel-3-synergy-vg1-l2-netcdf │ S3B_SY_2_VG1____20230430T000000_20230430T235959_20230501T123230_AFRICA_____… │\n",
       "└──────────────────────────────────┴──────────────────────────────────────────────────────────────────────────────┘\n"
      ]
     },
     "metadata": {},
     "output_type": "display_data"
    }
   ],
   "source": [
    "import copy\n",
    "from requests import Session\n",
    "\n",
    "SEARCH_URL = \"https://datahub.creodias.eu/odata/v1/Products\"\n",
    "session = Session()\n",
    "\n",
    "query = {\n",
    "    \"$top\": 1,\n",
    "    \"$orderby\": \"PublicationDate asc\",\n",
    "}\n",
    "table = Table(\"collection id\", \"item name\")\n",
    "for collection in collections:\n",
    "    if not collection.id.startswith(\"sentinel-3\"):\n",
    "        continue\n",
    "    parts = collection.id.split(\"-\")\n",
    "    collection_query = copy.deepcopy(query)\n",
    "    product_type = collection.summaries.get_list(\"s3:product_type\")[0]\n",
    "    collection_query[\"$filter\"] = (\n",
    "        \"Collection/Name eq 'SENTINEL-3' and \"\n",
    "        \"PublicationDate gt 2023-05-01T00:00:00Z and \"\n",
    "        f\"(startswith(Name, 'S3A_{product_type}') or startswith(Name, 'S3B_{product_type}'))\"\n",
    "    )\n",
    "    response = session.get(SEARCH_URL, params=collection_query)\n",
    "    value = response.json()[\"value\"]\n",
    "    if value:\n",
    "        assert len(value) == 1\n",
    "        table.add_row(collection.id, value[0][\"Name\"])\n",
    "    else:\n",
    "        table.add_row(collection.id, \"—\")\n",
    "display(table)"
   ]
  },
  {
   "attachments": {},
   "cell_type": "markdown",
   "metadata": {},
   "source": [
    "## Sentinel 5P\n",
    "\n",
    "Now let's do a similar exercise for the `sentinel-5p` collection."
   ]
  },
  {
   "cell_type": "code",
   "execution_count": 4,
   "metadata": {},
   "outputs": [
    {
     "data": {
      "text/html": [
       "<pre style=\"white-space:pre;overflow-x:auto;line-height:normal;font-family:Menlo,'DejaVu Sans Mono',consolas,'Courier New',monospace\">┏━━━━━━━━━━━━━━━━━━━━━━━┳━━━━━━━━━━━━━━━━━━━━━━━━━━━━━━━━━━━━━━━━━━━━━━━━━━━━━━━━━━━━━━━━━━━━━━━━━━━━━━━━━━━━━━━━┓\n",
       "┃<span style=\"font-weight: bold\"> collection id         </span>┃<span style=\"font-weight: bold\"> item name                                                                              </span>┃\n",
       "┡━━━━━━━━━━━━━━━━━━━━━━━╇━━━━━━━━━━━━━━━━━━━━━━━━━━━━━━━━━━━━━━━━━━━━━━━━━━━━━━━━━━━━━━━━━━━━━━━━━━━━━━━━━━━━━━━━┩\n",
       "│ sentinel-5p-l2-netcdf │ S5P_NRTI_L2__AER_AI_20230420T233422_20230420T233922_28596_03_020500_20230421T003803.nc │\n",
       "│ sentinel-5p-l2-netcdf │ S5P_NRTI_L2__AER_LH_20230413T105422_20230413T105922_28489_03_020500_20230413T114625.nc │\n",
       "│ sentinel-5p-l2-netcdf │ —                                                                                      │\n",
       "│ sentinel-5p-l2-netcdf │ S5P_NRTI_L2__CLOUD__20230405T020922_20230405T021422_28370_03_020401_20230405T034721.nc │\n",
       "│ sentinel-5p-l2-netcdf │ S5P_NRTI_L2__CO_____20230413T105922_20230413T110422_28489_03_020500_20230413T114531.nc │\n",
       "│ sentinel-5p-l2-netcdf │ S5P_NRTI_L2__HCHO___20230410T200422_20230410T200922_28452_03_020401_20230410T205448.nc │\n",
       "│ sentinel-5p-l2-netcdf │ S5P_NRTI_L2__NO2____20230405T094422_20230405T094922_28375_03_020500_20230405T103850.nc │\n",
       "│ sentinel-5p-l2-netcdf │ —                                                                                      │\n",
       "│ sentinel-5p-l2-netcdf │ —                                                                                      │\n",
       "│ sentinel-5p-l2-netcdf │ —                                                                                      │\n",
       "│ sentinel-5p-l2-netcdf │ —                                                                                      │\n",
       "│ sentinel-5p-l2-netcdf │ S5P_NRTI_L2__O3_____20230413T105422_20230413T105922_28489_03_020401_20230413T114620.nc │\n",
       "│ sentinel-5p-l2-netcdf │ S5P_NRTI_L2__SO2____20230413T023422_20230413T023922_28484_03_020401_20230413T031610.nc │\n",
       "└───────────────────────┴────────────────────────────────────────────────────────────────────────────────────────┘\n",
       "</pre>\n"
      ],
      "text/plain": [
       "┏━━━━━━━━━━━━━━━━━━━━━━━┳━━━━━━━━━━━━━━━━━━━━━━━━━━━━━━━━━━━━━━━━━━━━━━━━━━━━━━━━━━━━━━━━━━━━━━━━━━━━━━━━━━━━━━━━┓\n",
       "┃\u001b[1m \u001b[0m\u001b[1mcollection id        \u001b[0m\u001b[1m \u001b[0m┃\u001b[1m \u001b[0m\u001b[1mitem name                                                                             \u001b[0m\u001b[1m \u001b[0m┃\n",
       "┡━━━━━━━━━━━━━━━━━━━━━━━╇━━━━━━━━━━━━━━━━━━━━━━━━━━━━━━━━━━━━━━━━━━━━━━━━━━━━━━━━━━━━━━━━━━━━━━━━━━━━━━━━━━━━━━━━┩\n",
       "│ sentinel-5p-l2-netcdf │ S5P_NRTI_L2__AER_AI_20230420T233422_20230420T233922_28596_03_020500_20230421T003803.nc │\n",
       "│ sentinel-5p-l2-netcdf │ S5P_NRTI_L2__AER_LH_20230413T105422_20230413T105922_28489_03_020500_20230413T114625.nc │\n",
       "│ sentinel-5p-l2-netcdf │ —                                                                                      │\n",
       "│ sentinel-5p-l2-netcdf │ S5P_NRTI_L2__CLOUD__20230405T020922_20230405T021422_28370_03_020401_20230405T034721.nc │\n",
       "│ sentinel-5p-l2-netcdf │ S5P_NRTI_L2__CO_____20230413T105922_20230413T110422_28489_03_020500_20230413T114531.nc │\n",
       "│ sentinel-5p-l2-netcdf │ S5P_NRTI_L2__HCHO___20230410T200422_20230410T200922_28452_03_020401_20230410T205448.nc │\n",
       "│ sentinel-5p-l2-netcdf │ S5P_NRTI_L2__NO2____20230405T094422_20230405T094922_28375_03_020500_20230405T103850.nc │\n",
       "│ sentinel-5p-l2-netcdf │ —                                                                                      │\n",
       "│ sentinel-5p-l2-netcdf │ —                                                                                      │\n",
       "│ sentinel-5p-l2-netcdf │ —                                                                                      │\n",
       "│ sentinel-5p-l2-netcdf │ —                                                                                      │\n",
       "│ sentinel-5p-l2-netcdf │ S5P_NRTI_L2__O3_____20230413T105422_20230413T105922_28489_03_020401_20230413T114620.nc │\n",
       "│ sentinel-5p-l2-netcdf │ S5P_NRTI_L2__SO2____20230413T023422_20230413T023922_28484_03_020401_20230413T031610.nc │\n",
       "└───────────────────────┴────────────────────────────────────────────────────────────────────────────────────────┘\n"
      ]
     },
     "metadata": {},
     "output_type": "display_data"
    }
   ],
   "source": [
    "collection = next(c for c in collections if c.id.startswith(\"sentinel-5p\"))\n",
    "table = Table(\"collection id\", \"item name\")\n",
    "for product_type in collection.summaries.get_list(\"s5p:product_type\"):\n",
    "    collection_query = copy.deepcopy(query)\n",
    "    collection_query[\"$filter\"] = (\n",
    "        \"Collection/Name eq 'SENTINEL-5P' and \"\n",
    "        \"PublicationDate gt 2023-05-01T00:00:00Z and \"\n",
    "        f\"startswith(Name, 'S5P_NRTI_{product_type}')\"\n",
    "    )\n",
    "    response = session.get(SEARCH_URL, params=collection_query)\n",
    "    value = response.json()[\"value\"]\n",
    "    if value:\n",
    "        assert len(value) == 1\n",
    "        table.add_row(collection.id, value[0][\"Name\"])\n",
    "    else:\n",
    "        table.add_row(collection.id, \"—\")\n",
    "display(table)"
   ]
  },
  {
   "attachments": {},
   "cell_type": "markdown",
   "metadata": {},
   "source": [
    "### Missing data\n",
    "\n",
    "Looks like we're missing:\n",
    "\n",
    "- `L2__CH4___`\n",
    "- `L2__NP_BD3`\n",
    "- `L2__NP_BD6`\n",
    "- `L2__NP_BD7`\n",
    "- `L2__O3_TCL`\n",
    "\n",
    "Let's see if they're `OFFL` instead of `NRTI`."
   ]
  },
  {
   "cell_type": "code",
   "execution_count": 5,
   "metadata": {},
   "outputs": [
    {
     "data": {
      "text/html": [
       "<pre style=\"white-space:pre;overflow-x:auto;line-height:normal;font-family:Menlo,'DejaVu Sans Mono',consolas,'Courier New',monospace\">┏━━━━━━━━━━━━━━━━━━━━━━━┳━━━━━━━━━━━━━━━━━━━━━━━━━━━━━━━━━━━━━━━━━━━━━━━━━━━━━━━━━━━━━━━━━━━━━━━━━━━━━━━━━━━━━━━━┓\n",
       "┃<span style=\"font-weight: bold\"> collection id         </span>┃<span style=\"font-weight: bold\"> item name                                                                              </span>┃\n",
       "┡━━━━━━━━━━━━━━━━━━━━━━━╇━━━━━━━━━━━━━━━━━━━━━━━━━━━━━━━━━━━━━━━━━━━━━━━━━━━━━━━━━━━━━━━━━━━━━━━━━━━━━━━━━━━━━━━━┩\n",
       "│ sentinel-5p-l2-netcdf │ S5P_OFFL_L2__CH4____20230403T095605_20230403T113735_28347_03_020500_20230405T021404.nc │\n",
       "│ sentinel-5p-l2-netcdf │ S5P_OFFL_L2__NP_BD3_20230423T171018_20230423T185148_28635_03_010300_20230425T065828.nc │\n",
       "│ sentinel-5p-l2-netcdf │ S5P_OFFL_L2__NP_BD6_20230402T032855_20230402T051026_28329_03_010300_20230403T171243.nc │\n",
       "│ sentinel-5p-l2-netcdf │ S5P_OFFL_L2__NP_BD7_20230329T113029_20230329T131159_28277_03_010300_20230331T012002.nc │\n",
       "│ sentinel-5p-l2-netcdf │ S5P_OFFL_L2__O3_TCL_20230321T110002_20230327T114642_28206_03_020401_20230405T000319.nc │\n",
       "└───────────────────────┴────────────────────────────────────────────────────────────────────────────────────────┘\n",
       "</pre>\n"
      ],
      "text/plain": [
       "┏━━━━━━━━━━━━━━━━━━━━━━━┳━━━━━━━━━━━━━━━━━━━━━━━━━━━━━━━━━━━━━━━━━━━━━━━━━━━━━━━━━━━━━━━━━━━━━━━━━━━━━━━━━━━━━━━━┓\n",
       "┃\u001b[1m \u001b[0m\u001b[1mcollection id        \u001b[0m\u001b[1m \u001b[0m┃\u001b[1m \u001b[0m\u001b[1mitem name                                                                             \u001b[0m\u001b[1m \u001b[0m┃\n",
       "┡━━━━━━━━━━━━━━━━━━━━━━━╇━━━━━━━━━━━━━━━━━━━━━━━━━━━━━━━━━━━━━━━━━━━━━━━━━━━━━━━━━━━━━━━━━━━━━━━━━━━━━━━━━━━━━━━━┩\n",
       "│ sentinel-5p-l2-netcdf │ S5P_OFFL_L2__CH4____20230403T095605_20230403T113735_28347_03_020500_20230405T021404.nc │\n",
       "│ sentinel-5p-l2-netcdf │ S5P_OFFL_L2__NP_BD3_20230423T171018_20230423T185148_28635_03_010300_20230425T065828.nc │\n",
       "│ sentinel-5p-l2-netcdf │ S5P_OFFL_L2__NP_BD6_20230402T032855_20230402T051026_28329_03_010300_20230403T171243.nc │\n",
       "│ sentinel-5p-l2-netcdf │ S5P_OFFL_L2__NP_BD7_20230329T113029_20230329T131159_28277_03_010300_20230331T012002.nc │\n",
       "│ sentinel-5p-l2-netcdf │ S5P_OFFL_L2__O3_TCL_20230321T110002_20230327T114642_28206_03_020401_20230405T000319.nc │\n",
       "└───────────────────────┴────────────────────────────────────────────────────────────────────────────────────────┘\n"
      ]
     },
     "metadata": {},
     "output_type": "display_data"
    }
   ],
   "source": [
    "missing_product_types = [\n",
    "    \"L2__CH4___\",\n",
    "    \"L2__NP_BD3\",\n",
    "    \"L2__NP_BD6\",\n",
    "    \"L2__NP_BD7\",\n",
    "    \"L2__O3_TCL\",\n",
    "]\n",
    "table = Table(\"collection id\", \"item name\")\n",
    "for product_type in missing_product_types:\n",
    "    collection_query = copy.deepcopy(query)\n",
    "    collection_query[\"$filter\"] = (\n",
    "        \"Collection/Name eq 'SENTINEL-5P' and \"\n",
    "        \"PublicationDate gt 2023-05-01T00:00:00Z and \"\n",
    "        f\"startswith(Name, 'S5P_OFFL_{product_type}')\"\n",
    "    )\n",
    "    response = session.get(SEARCH_URL, params=collection_query)\n",
    "    value = response.json()[\"value\"]\n",
    "    if value:\n",
    "        assert len(value) == 1\n",
    "        table.add_row(collection.id, value[0][\"Name\"])\n",
    "    else:\n",
    "        table.add_row(collection.id, \"—\")\n",
    "display(table)"
   ]
  },
  {
   "attachments": {},
   "cell_type": "markdown",
   "metadata": {},
   "source": [
    "## Conclusion\n",
    "\n",
    "We're good!\n",
    "We've got them all, or at least SOME data exists for all PC products since the start of May 2023.\n",
    "We'll want to look at the `OFFL` vs `NRTI` vs `RPRO` for Sentinel-5P, but we _should_ be able to find what we need."
   ]
  }
 ],
 "metadata": {
  "kernelspec": {
   "display_name": ".venv",
   "language": "python",
   "name": "python3"
  },
  "language_info": {
   "codemirror_mode": {
    "name": "ipython",
    "version": 3
   },
   "file_extension": ".py",
   "mimetype": "text/x-python",
   "name": "python",
   "nbconvert_exporter": "python",
   "pygments_lexer": "ipython3",
   "version": "3.11.3"
  },
  "orig_nbformat": 4
 },
 "nbformat": 4,
 "nbformat_minor": 2
}
