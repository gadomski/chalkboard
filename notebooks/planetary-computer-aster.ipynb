{
 "cells": [
  {
   "cell_type": "markdown",
   "metadata": {},
   "source": [
    "# ASTER products on the Planetary computer\n",
    "\n",
    "For now, we just want to count how many there are."
   ]
  },
  {
   "cell_type": "code",
   "execution_count": 10,
   "metadata": {},
   "outputs": [
    {
     "name": "stdout",
     "output_type": "stream",
     "text": [
      "abfs://items/aster-l1t.parquet/part-00_2001-01-01T12:00:00+00:00_2002-01-01T12:00:00+00:00.parquet has 106919 items\n",
      "abfs://items/aster-l1t.parquet/part-01_2002-01-01T12:00:00+00:00_2003-01-01T12:00:00+00:00.parquet has 92978 items\n",
      "abfs://items/aster-l1t.parquet/part-02_2003-01-01T12:00:00+00:00_2004-01-01T12:00:00+00:00.parquet has 95835 items\n",
      "abfs://items/aster-l1t.parquet/part-03_2004-01-01T12:00:00+00:00_2005-01-01T12:00:00+00:00.parquet has 83811 items\n",
      "abfs://items/aster-l1t.parquet/part-04_2005-01-01T12:00:00+00:00_2006-01-01T12:00:00+00:00.parquet has 119508 items\n",
      "499051 items in total\n"
     ]
    }
   ],
   "source": [
    "import urllib.parse\n",
    "\n",
    "import geopandas\n",
    "import planetary_computer\n",
    "from adlfs import AzureBlobFileSystem\n",
    "from pystac_client import Client\n",
    "\n",
    "PLANETARY_COMPUTER = \"https://planetarycomputer.microsoft.com/api/stac/v1\"\n",
    "ASTER_COLLECTION_ID = \"aster-l1t\"\n",
    "GEOPARQUET_ITEMS_KEY = \"geoparquet-items\"\n",
    "\n",
    "client = Client.open(PLANETARY_COMPUTER, modifier=planetary_computer.sign_inplace)\n",
    "collection = client.get_collection(ASTER_COLLECTION_ID)\n",
    "asset = collection.assets[GEOPARQUET_ITEMS_KEY]\n",
    "url = urllib.parse.urlparse(asset.href)\n",
    "path = f\"{url.netloc}{url.path}\"\n",
    "file_system = AzureBlobFileSystem(**asset.extra_fields[\"table:storage_options\"])\n",
    "paths = file_system.ls(path)\n",
    "total = 0\n",
    "for path in paths:\n",
    "    href = f\"{url.scheme}://{path}\"\n",
    "    dataframe = geopandas.read_parquet(href, storage_options=asset.extra_fields[\"table:storage_options\"])\n",
    "    count = len(dataframe)\n",
    "    print(f\"{href} has {count} items\")\n",
    "    total += count\n",
    "print(f\"{total} items in total\")"
   ]
  }
 ],
 "metadata": {
  "kernelspec": {
   "display_name": "Python 3.10.6 64-bit ('chalkboard')",
   "language": "python",
   "name": "python3"
  },
  "language_info": {
   "codemirror_mode": {
    "name": "ipython",
    "version": 3
   },
   "file_extension": ".py",
   "mimetype": "text/x-python",
   "name": "python",
   "nbconvert_exporter": "python",
   "pygments_lexer": "ipython3",
   "version": "3.10.6"
  },
  "orig_nbformat": 4,
  "vscode": {
   "interpreter": {
    "hash": "ac0750d9386768d1c327e9f13c5d6e4603331578da7341ec544a9819867cc2f8"
   }
  }
 },
 "nbformat": 4,
 "nbformat_minor": 2
}
